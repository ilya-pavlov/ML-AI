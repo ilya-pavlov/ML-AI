{
 "cells": [
  {
   "cell_type": "markdown",
   "metadata": {},
   "source": [
    "# Прогнозирование оттока клиентов\n",
    "---"
   ]
  },
  {
   "cell_type": "code",
   "execution_count": 1,
   "metadata": {},
   "outputs": [
    {
     "name": "stdout",
     "output_type": "stream",
     "text": [
      "Using matplotlib backend: Qt5Agg\n"
     ]
    }
   ],
   "source": [
    "import numpy as np\n",
    "import pandas as pd\n",
    "import matplotlib.pyplot as plt\n",
    "plt.style.use('ggplot')\n",
    "%matplotlib"
   ]
  },
  {
   "cell_type": "markdown",
   "metadata": {},
   "source": [
    "# 1. Загрузка и анализ данных\n",
    "---"
   ]
  },
  {
   "cell_type": "markdown",
   "metadata": {},
   "source": [
    "## 1.1 Загрузка"
   ]
  },
  {
   "cell_type": "code",
   "execution_count": 2,
   "metadata": {},
   "outputs": [
    {
     "data": {
      "text/html": [
       "<div>\n",
       "<style scoped>\n",
       "    .dataframe tbody tr th:only-of-type {\n",
       "        vertical-align: middle;\n",
       "    }\n",
       "\n",
       "    .dataframe tbody tr th {\n",
       "        vertical-align: top;\n",
       "    }\n",
       "\n",
       "    .dataframe thead th {\n",
       "        text-align: right;\n",
       "    }\n",
       "</style>\n",
       "<table border=\"1\" class=\"dataframe\">\n",
       "  <thead>\n",
       "    <tr style=\"text-align: right;\">\n",
       "      <th></th>\n",
       "      <th>DATA_TYPE</th>\n",
       "      <th>POLICY_ID</th>\n",
       "      <th>POLICY_BEGIN_MONTH</th>\n",
       "      <th>POLICY_END_MONTH</th>\n",
       "      <th>POLICY_IS_RENEWED</th>\n",
       "      <th>POLICY_SALES_CHANNEL</th>\n",
       "      <th>POLICY_SALES_CHANNEL_GROUP</th>\n",
       "      <th>POLICY_BRANCH</th>\n",
       "      <th>POLICY_MIN_AGE</th>\n",
       "      <th>POLICY_MIN_DRIVING_EXPERIENCE</th>\n",
       "      <th>...</th>\n",
       "      <th>POLICY_PRV_CLM_GLT_N</th>\n",
       "      <th>CLIENT_HAS_DAGO</th>\n",
       "      <th>CLIENT_HAS_OSAGO</th>\n",
       "      <th>POLICY_COURT_SIGN</th>\n",
       "      <th>CLAIM_AVG_ACC_ST_PRD</th>\n",
       "      <th>POLICY_HAS_COMPLAINTS</th>\n",
       "      <th>POLICY_YEARS_RENEWED_N</th>\n",
       "      <th>POLICY_DEDUCT_VALUE</th>\n",
       "      <th>CLIENT_REGISTRATION_REGION</th>\n",
       "      <th>POLICY_PRICE_CHANGE</th>\n",
       "    </tr>\n",
       "  </thead>\n",
       "  <tbody>\n",
       "    <tr>\n",
       "      <th>0</th>\n",
       "      <td>TRAIN</td>\n",
       "      <td>1</td>\n",
       "      <td>1</td>\n",
       "      <td>1</td>\n",
       "      <td>1</td>\n",
       "      <td>39</td>\n",
       "      <td>1</td>\n",
       "      <td>Москва</td>\n",
       "      <td>51</td>\n",
       "      <td>12</td>\n",
       "      <td>...</td>\n",
       "      <td>N</td>\n",
       "      <td>1</td>\n",
       "      <td>0</td>\n",
       "      <td>0</td>\n",
       "      <td>0.0</td>\n",
       "      <td>0</td>\n",
       "      <td>0</td>\n",
       "      <td>0.0</td>\n",
       "      <td>Тульская</td>\n",
       "      <td>-1.00</td>\n",
       "    </tr>\n",
       "    <tr>\n",
       "      <th>1</th>\n",
       "      <td>TRAIN</td>\n",
       "      <td>2</td>\n",
       "      <td>1</td>\n",
       "      <td>1</td>\n",
       "      <td>1</td>\n",
       "      <td>50</td>\n",
       "      <td>5</td>\n",
       "      <td>Москва</td>\n",
       "      <td>35</td>\n",
       "      <td>7</td>\n",
       "      <td>...</td>\n",
       "      <td>0</td>\n",
       "      <td>1</td>\n",
       "      <td>1</td>\n",
       "      <td>0</td>\n",
       "      <td>0.0</td>\n",
       "      <td>0</td>\n",
       "      <td>4</td>\n",
       "      <td>0.0</td>\n",
       "      <td>Москва</td>\n",
       "      <td>-0.05</td>\n",
       "    </tr>\n",
       "    <tr>\n",
       "      <th>2</th>\n",
       "      <td>TRAIN</td>\n",
       "      <td>3</td>\n",
       "      <td>1</td>\n",
       "      <td>1</td>\n",
       "      <td>1</td>\n",
       "      <td>52</td>\n",
       "      <td>6</td>\n",
       "      <td>Москва</td>\n",
       "      <td>41</td>\n",
       "      <td>6</td>\n",
       "      <td>...</td>\n",
       "      <td>1L</td>\n",
       "      <td>0</td>\n",
       "      <td>0</td>\n",
       "      <td>0</td>\n",
       "      <td>0.0</td>\n",
       "      <td>0</td>\n",
       "      <td>1</td>\n",
       "      <td>12518.0</td>\n",
       "      <td>Московская</td>\n",
       "      <td>-0.07</td>\n",
       "    </tr>\n",
       "    <tr>\n",
       "      <th>3</th>\n",
       "      <td>TRAIN</td>\n",
       "      <td>4</td>\n",
       "      <td>1</td>\n",
       "      <td>1</td>\n",
       "      <td>1</td>\n",
       "      <td>50</td>\n",
       "      <td>5</td>\n",
       "      <td>Москва</td>\n",
       "      <td>36</td>\n",
       "      <td>12</td>\n",
       "      <td>...</td>\n",
       "      <td>0</td>\n",
       "      <td>1</td>\n",
       "      <td>1</td>\n",
       "      <td>0</td>\n",
       "      <td>0.0</td>\n",
       "      <td>0</td>\n",
       "      <td>6</td>\n",
       "      <td>15000.0</td>\n",
       "      <td>Москва</td>\n",
       "      <td>0.05</td>\n",
       "    </tr>\n",
       "    <tr>\n",
       "      <th>4</th>\n",
       "      <td>TRAIN</td>\n",
       "      <td>5</td>\n",
       "      <td>1</td>\n",
       "      <td>1</td>\n",
       "      <td>0</td>\n",
       "      <td>52</td>\n",
       "      <td>6</td>\n",
       "      <td>Санкт-Петербург</td>\n",
       "      <td>42</td>\n",
       "      <td>5</td>\n",
       "      <td>...</td>\n",
       "      <td>N</td>\n",
       "      <td>0</td>\n",
       "      <td>0</td>\n",
       "      <td>0</td>\n",
       "      <td>0.0</td>\n",
       "      <td>0</td>\n",
       "      <td>0</td>\n",
       "      <td>50000.0</td>\n",
       "      <td>Ленинградская</td>\n",
       "      <td>0.17</td>\n",
       "    </tr>\n",
       "  </tbody>\n",
       "</table>\n",
       "<p>5 rows × 30 columns</p>\n",
       "</div>"
      ],
      "text/plain": [
       "  DATA_TYPE  POLICY_ID  POLICY_BEGIN_MONTH  POLICY_END_MONTH  \\\n",
       "0     TRAIN          1                   1                 1   \n",
       "1     TRAIN          2                   1                 1   \n",
       "2     TRAIN          3                   1                 1   \n",
       "3     TRAIN          4                   1                 1   \n",
       "4     TRAIN          5                   1                 1   \n",
       "\n",
       "   POLICY_IS_RENEWED  POLICY_SALES_CHANNEL  POLICY_SALES_CHANNEL_GROUP  \\\n",
       "0                  1                    39                           1   \n",
       "1                  1                    50                           5   \n",
       "2                  1                    52                           6   \n",
       "3                  1                    50                           5   \n",
       "4                  0                    52                           6   \n",
       "\n",
       "     POLICY_BRANCH  POLICY_MIN_AGE  POLICY_MIN_DRIVING_EXPERIENCE  ...  \\\n",
       "0           Москва              51                             12  ...   \n",
       "1           Москва              35                              7  ...   \n",
       "2           Москва              41                              6  ...   \n",
       "3           Москва              36                             12  ...   \n",
       "4  Санкт-Петербург              42                              5  ...   \n",
       "\n",
       "  POLICY_PRV_CLM_GLT_N CLIENT_HAS_DAGO  CLIENT_HAS_OSAGO  POLICY_COURT_SIGN  \\\n",
       "0                    N               1                 0                  0   \n",
       "1                    0               1                 1                  0   \n",
       "2                   1L               0                 0                  0   \n",
       "3                    0               1                 1                  0   \n",
       "4                    N               0                 0                  0   \n",
       "\n",
       "   CLAIM_AVG_ACC_ST_PRD POLICY_HAS_COMPLAINTS POLICY_YEARS_RENEWED_N  \\\n",
       "0                   0.0                     0                      0   \n",
       "1                   0.0                     0                      4   \n",
       "2                   0.0                     0                      1   \n",
       "3                   0.0                     0                      6   \n",
       "4                   0.0                     0                      0   \n",
       "\n",
       "  POLICY_DEDUCT_VALUE CLIENT_REGISTRATION_REGION POLICY_PRICE_CHANGE  \n",
       "0                 0.0                   Тульская               -1.00  \n",
       "1                 0.0                     Москва               -0.05  \n",
       "2             12518.0                 Московская               -0.07  \n",
       "3             15000.0                     Москва                0.05  \n",
       "4             50000.0              Ленинградская                0.17  \n",
       "\n",
       "[5 rows x 30 columns]"
      ]
     },
     "execution_count": 2,
     "metadata": {},
     "output_type": "execute_result"
    }
   ],
   "source": [
    "PATH_TO_DATA = 'D:\\Задача 1\\Данные для задачи - Ренессанс.txt'\n",
    "data = pd.read_csv(PATH_TO_DATA, header=0, sep=';', quotechar='\"')\n",
    "pd.set_option('precision', 2)\n",
    "data.head()"
   ]
  },
  {
   "cell_type": "code",
   "execution_count": 3,
   "metadata": {},
   "outputs": [
    {
     "data": {
      "text/plain": [
       "(96605, 30)"
      ]
     },
     "execution_count": 3,
     "metadata": {},
     "output_type": "execute_result"
    }
   ],
   "source": [
    "data.shape"
   ]
  },
  {
   "cell_type": "markdown",
   "metadata": {},
   "source": [
    "Проведем проверку на дубликаты строк."
   ]
  },
  {
   "cell_type": "code",
   "execution_count": 4,
   "metadata": {},
   "outputs": [
    {
     "data": {
      "text/html": [
       "<div>\n",
       "<style scoped>\n",
       "    .dataframe tbody tr th:only-of-type {\n",
       "        vertical-align: middle;\n",
       "    }\n",
       "\n",
       "    .dataframe tbody tr th {\n",
       "        vertical-align: top;\n",
       "    }\n",
       "\n",
       "    .dataframe thead th {\n",
       "        text-align: right;\n",
       "    }\n",
       "</style>\n",
       "<table border=\"1\" class=\"dataframe\">\n",
       "  <thead>\n",
       "    <tr style=\"text-align: right;\">\n",
       "      <th></th>\n",
       "      <th>DATA_TYPE</th>\n",
       "      <th>POLICY_ID</th>\n",
       "      <th>POLICY_BEGIN_MONTH</th>\n",
       "      <th>POLICY_END_MONTH</th>\n",
       "      <th>POLICY_IS_RENEWED</th>\n",
       "      <th>POLICY_SALES_CHANNEL</th>\n",
       "      <th>POLICY_SALES_CHANNEL_GROUP</th>\n",
       "      <th>POLICY_BRANCH</th>\n",
       "      <th>POLICY_MIN_AGE</th>\n",
       "      <th>POLICY_MIN_DRIVING_EXPERIENCE</th>\n",
       "      <th>...</th>\n",
       "      <th>POLICY_PRV_CLM_GLT_N</th>\n",
       "      <th>CLIENT_HAS_DAGO</th>\n",
       "      <th>CLIENT_HAS_OSAGO</th>\n",
       "      <th>POLICY_COURT_SIGN</th>\n",
       "      <th>CLAIM_AVG_ACC_ST_PRD</th>\n",
       "      <th>POLICY_HAS_COMPLAINTS</th>\n",
       "      <th>POLICY_YEARS_RENEWED_N</th>\n",
       "      <th>POLICY_DEDUCT_VALUE</th>\n",
       "      <th>CLIENT_REGISTRATION_REGION</th>\n",
       "      <th>POLICY_PRICE_CHANGE</th>\n",
       "    </tr>\n",
       "  </thead>\n",
       "  <tbody>\n",
       "  </tbody>\n",
       "</table>\n",
       "<p>0 rows × 30 columns</p>\n",
       "</div>"
      ],
      "text/plain": [
       "Empty DataFrame\n",
       "Columns: [DATA_TYPE, POLICY_ID, POLICY_BEGIN_MONTH, POLICY_END_MONTH, POLICY_IS_RENEWED, POLICY_SALES_CHANNEL, POLICY_SALES_CHANNEL_GROUP, POLICY_BRANCH, POLICY_MIN_AGE, POLICY_MIN_DRIVING_EXPERIENCE, VEHICLE_MAKE, VEHICLE_MODEL, VEHICLE_ENGINE_POWER, VEHICLE_IN_CREDIT, VEHICLE_SUM_INSURED, POLICY_INTERMEDIARY, INSURER_GENDER, POLICY_CLM_N, POLICY_CLM_GLT_N, POLICY_PRV_CLM_N, POLICY_PRV_CLM_GLT_N, CLIENT_HAS_DAGO, CLIENT_HAS_OSAGO, POLICY_COURT_SIGN, CLAIM_AVG_ACC_ST_PRD, POLICY_HAS_COMPLAINTS, POLICY_YEARS_RENEWED_N, POLICY_DEDUCT_VALUE, CLIENT_REGISTRATION_REGION, POLICY_PRICE_CHANGE]\n",
       "Index: []\n",
       "\n",
       "[0 rows x 30 columns]"
      ]
     },
     "execution_count": 4,
     "metadata": {},
     "output_type": "execute_result"
    }
   ],
   "source": [
    "data[data.duplicated()]"
   ]
  },
  {
   "cell_type": "markdown",
   "metadata": {},
   "source": [
    "Видно, что дубликовто не обнаружено."
   ]
  },
  {
   "cell_type": "markdown",
   "metadata": {},
   "source": [
    "## 1.2 Проверка на пропуски"
   ]
  },
  {
   "cell_type": "code",
   "execution_count": 5,
   "metadata": {},
   "outputs": [
    {
     "data": {
      "text/plain": [
       "DATA_TYPE                        False\n",
       "POLICY_ID                        False\n",
       "POLICY_BEGIN_MONTH               False\n",
       "POLICY_END_MONTH                 False\n",
       "POLICY_IS_RENEWED                False\n",
       "POLICY_SALES_CHANNEL             False\n",
       "POLICY_SALES_CHANNEL_GROUP       False\n",
       "POLICY_BRANCH                    False\n",
       "POLICY_MIN_AGE                   False\n",
       "POLICY_MIN_DRIVING_EXPERIENCE    False\n",
       "VEHICLE_MAKE                     False\n",
       "VEHICLE_MODEL                    False\n",
       "VEHICLE_ENGINE_POWER             False\n",
       "VEHICLE_IN_CREDIT                False\n",
       "VEHICLE_SUM_INSURED              False\n",
       "POLICY_INTERMEDIARY              False\n",
       "INSURER_GENDER                   False\n",
       "POLICY_CLM_N                     False\n",
       "POLICY_CLM_GLT_N                 False\n",
       "POLICY_PRV_CLM_N                 False\n",
       "POLICY_PRV_CLM_GLT_N             False\n",
       "CLIENT_HAS_DAGO                  False\n",
       "CLIENT_HAS_OSAGO                 False\n",
       "POLICY_COURT_SIGN                False\n",
       "CLAIM_AVG_ACC_ST_PRD             False\n",
       "POLICY_HAS_COMPLAINTS            False\n",
       "POLICY_YEARS_RENEWED_N           False\n",
       "POLICY_DEDUCT_VALUE              False\n",
       "CLIENT_REGISTRATION_REGION       False\n",
       "POLICY_PRICE_CHANGE              False\n",
       "dtype: bool"
      ]
     },
     "execution_count": 5,
     "metadata": {},
     "output_type": "execute_result"
    }
   ],
   "source": [
    "data.isna().any()"
   ]
  },
  {
   "cell_type": "markdown",
   "metadata": {},
   "source": [
    "Пропусков данных не обнаружено"
   ]
  },
  {
   "cell_type": "markdown",
   "metadata": {},
   "source": [
    "## 1.3 Выделение признаков"
   ]
  },
  {
   "cell_type": "markdown",
   "metadata": {},
   "source": [
    "Выделим в отдельные списки категориальные и числовые признаки для того, чтобы в дальнейшем их было легко трансформировать для разных моделей обучения"
   ]
  },
  {
   "cell_type": "code",
   "execution_count": 6,
   "metadata": {
    "scrolled": true
   },
   "outputs": [
    {
     "name": "stdout",
     "output_type": "stream",
     "text": [
      "Категориальные:\n",
      "['DATA_TYPE', 'POLICY_BRANCH', 'VEHICLE_MAKE', 'VEHICLE_MODEL', 'POLICY_INTERMEDIARY', 'INSURER_GENDER', 'POLICY_CLM_N', 'POLICY_CLM_GLT_N', 'POLICY_PRV_CLM_N', 'POLICY_PRV_CLM_GLT_N', 'POLICY_YEARS_RENEWED_N', 'CLIENT_REGISTRATION_REGION']\n",
      "Вещестыенные:\n",
      "['POLICY_ID', 'POLICY_BEGIN_MONTH', 'POLICY_END_MONTH', 'POLICY_IS_RENEWED', 'POLICY_SALES_CHANNEL', 'POLICY_SALES_CHANNEL_GROUP', 'POLICY_MIN_AGE', 'POLICY_MIN_DRIVING_EXPERIENCE', 'VEHICLE_ENGINE_POWER', 'VEHICLE_IN_CREDIT', 'VEHICLE_SUM_INSURED', 'CLIENT_HAS_DAGO', 'CLIENT_HAS_OSAGO', 'POLICY_COURT_SIGN', 'CLAIM_AVG_ACC_ST_PRD', 'POLICY_HAS_COMPLAINTS', 'POLICY_DEDUCT_VALUE', 'POLICY_PRICE_CHANGE']\n"
     ]
    }
   ],
   "source": [
    "categorical_columns = [c for c in data.columns if data[c].dtype.name == 'object']\n",
    "numerical_columns   = [c for c in data.columns if data[c].dtype.name != 'object']\n",
    "print ('Категориальные:')\n",
    "print (categorical_columns)\n",
    "print ('Вещестыенные:')\n",
    "print (numerical_columns)"
   ]
  },
  {
   "cell_type": "markdown",
   "metadata": {},
   "source": [
    "Проведем исследование категориальных признаков."
   ]
  },
  {
   "cell_type": "code",
   "execution_count": 7,
   "metadata": {},
   "outputs": [
    {
     "data": {
      "text/html": [
       "<div>\n",
       "<style scoped>\n",
       "    .dataframe tbody tr th:only-of-type {\n",
       "        vertical-align: middle;\n",
       "    }\n",
       "\n",
       "    .dataframe tbody tr th {\n",
       "        vertical-align: top;\n",
       "    }\n",
       "\n",
       "    .dataframe thead th {\n",
       "        text-align: right;\n",
       "    }\n",
       "</style>\n",
       "<table border=\"1\" class=\"dataframe\">\n",
       "  <thead>\n",
       "    <tr style=\"text-align: right;\">\n",
       "      <th></th>\n",
       "      <th>DATA_TYPE</th>\n",
       "      <th>POLICY_BRANCH</th>\n",
       "      <th>VEHICLE_MAKE</th>\n",
       "      <th>VEHICLE_MODEL</th>\n",
       "      <th>POLICY_INTERMEDIARY</th>\n",
       "      <th>INSURER_GENDER</th>\n",
       "      <th>POLICY_CLM_N</th>\n",
       "      <th>POLICY_CLM_GLT_N</th>\n",
       "      <th>POLICY_PRV_CLM_N</th>\n",
       "      <th>POLICY_PRV_CLM_GLT_N</th>\n",
       "      <th>POLICY_YEARS_RENEWED_N</th>\n",
       "      <th>CLIENT_REGISTRATION_REGION</th>\n",
       "    </tr>\n",
       "  </thead>\n",
       "  <tbody>\n",
       "    <tr>\n",
       "      <th>count</th>\n",
       "      <td>96605</td>\n",
       "      <td>96605</td>\n",
       "      <td>96605</td>\n",
       "      <td>96605</td>\n",
       "      <td>96605</td>\n",
       "      <td>96605</td>\n",
       "      <td>96605</td>\n",
       "      <td>96605</td>\n",
       "      <td>96605</td>\n",
       "      <td>96605</td>\n",
       "      <td>96605</td>\n",
       "      <td>96605</td>\n",
       "    </tr>\n",
       "    <tr>\n",
       "      <th>unique</th>\n",
       "      <td>2</td>\n",
       "      <td>2</td>\n",
       "      <td>83</td>\n",
       "      <td>549</td>\n",
       "      <td>1406</td>\n",
       "      <td>2</td>\n",
       "      <td>7</td>\n",
       "      <td>7</td>\n",
       "      <td>7</td>\n",
       "      <td>7</td>\n",
       "      <td>12</td>\n",
       "      <td>85</td>\n",
       "    </tr>\n",
       "    <tr>\n",
       "      <th>top</th>\n",
       "      <td>TRAIN</td>\n",
       "      <td>Москва</td>\n",
       "      <td>Kia</td>\n",
       "      <td>RAV4</td>\n",
       "      <td>N</td>\n",
       "      <td>M</td>\n",
       "      <td>0</td>\n",
       "      <td>0</td>\n",
       "      <td>0</td>\n",
       "      <td>0</td>\n",
       "      <td>0</td>\n",
       "      <td>Санкт-Петербург</td>\n",
       "    </tr>\n",
       "    <tr>\n",
       "      <th>freq</th>\n",
       "      <td>77407</td>\n",
       "      <td>50697</td>\n",
       "      <td>11050</td>\n",
       "      <td>4186</td>\n",
       "      <td>20630</td>\n",
       "      <td>61044</td>\n",
       "      <td>68111</td>\n",
       "      <td>72295</td>\n",
       "      <td>44587</td>\n",
       "      <td>48153</td>\n",
       "      <td>33249</td>\n",
       "      <td>38854</td>\n",
       "    </tr>\n",
       "  </tbody>\n",
       "</table>\n",
       "</div>"
      ],
      "text/plain": [
       "       DATA_TYPE POLICY_BRANCH VEHICLE_MAKE VEHICLE_MODEL POLICY_INTERMEDIARY  \\\n",
       "count      96605         96605        96605         96605               96605   \n",
       "unique         2             2           83           549                1406   \n",
       "top        TRAIN        Москва          Kia          RAV4                   N   \n",
       "freq       77407         50697        11050          4186               20630   \n",
       "\n",
       "       INSURER_GENDER POLICY_CLM_N POLICY_CLM_GLT_N POLICY_PRV_CLM_N  \\\n",
       "count           96605        96605            96605            96605   \n",
       "unique              2            7                7                7   \n",
       "top                 M            0                0                0   \n",
       "freq            61044        68111            72295            44587   \n",
       "\n",
       "       POLICY_PRV_CLM_GLT_N POLICY_YEARS_RENEWED_N CLIENT_REGISTRATION_REGION  \n",
       "count                 96605                  96605                      96605  \n",
       "unique                    7                     12                         85  \n",
       "top                       0                      0            Санкт-Петербург  \n",
       "freq                  48153                  33249                      38854  "
      ]
     },
     "execution_count": 7,
     "metadata": {},
     "output_type": "execute_result"
    }
   ],
   "source": [
    "data[categorical_columns].describe()"
   ]
  },
  {
   "cell_type": "code",
   "execution_count": 8,
   "metadata": {},
   "outputs": [
    {
     "name": "stdout",
     "output_type": "stream",
     "text": [
      "DATA_TYPE ['TRAIN' 'TEST ']\n",
      "POLICY_BRANCH ['Москва' 'Санкт-Петербург']\n",
      "VEHICLE_MAKE ['Land Rover' 'Opel' 'Kia' 'Citroen' 'Renault' 'Suzuki' 'Hyundai' 'BMW'\n",
      " 'Skoda' 'Volkswagen' 'Ssang Yong' 'Toyota' 'Ford' 'Fiat' 'Honda' 'Mazda'\n",
      " 'Mitsubishi' 'Peugeot' 'Nissan' 'ГАЗ' 'Dodge' 'Lifan' 'Audi' 'УАЗ'\n",
      " 'Volvo' 'Porsche' 'Subaru' 'ВАЗ' 'Chevrolet' 'Daewoo' 'Lada'\n",
      " 'Mercedes-Benz' 'Lexus' 'Другая марка (Иностранного производства)' 'Seat'\n",
      " 'Jeep' 'Infiniti' 'Acura' 'Mini'\n",
      " 'Другая марка (Отечественного производства)' 'Geely' 'Great Wall'\n",
      " 'Datsun' 'Chrysler' 'Chery' 'Cadillac' 'Jaguar' 'Smart' 'Tagaz' 'Vortex'\n",
      " 'Brilliance' 'КАМАЗ' 'Saab' 'Scania' 'Wielton' 'Faw' 'Hummer' 'Daihatsu'\n",
      " 'Changan' 'MAN' 'DAF' 'BYD' 'Lincoln' 'Alfa Romeo' 'Bogdan' 'Maserati'\n",
      " 'Haima' 'Scion' 'Jcb' 'Купава' 'Rolls-Royce' 'Rover' 'ПАЗ' 'Bentley'\n",
      " 'Ferrari' 'ИПВ' 'Iveco' 'Kogel' 'ИЖ' 'Krone' 'Hafei' '<Пусто>' 'МАЗ']\n",
      "VEHICLE_MODEL ['Discovery' 'Zafira' 'Soul' 'C-Crosser' 'Logan' 'Grand Vitara' 'Sorento'\n",
      " 'Santa Fe' 'X3' 'Octavia' 'Ceed' 'Tiguan' 'Actyon' 'RAV4' 'Sportage'\n",
      " 'C-Max' 'Yeti' 'Ducato' 'Jetta' 'CR-V' 'CX-7' 'Fluence' 'Megane' 'Focus'\n",
      " 'Rio' 'Outlander' 'Transit' 'ix35' '407' 'Caddy' 'Scenic' 'Polo' 'Optima'\n",
      " 'X1' 'Qashqai' 'Siber' 'Sandero' 'Tiida' 'Solaris' 'Doblo' 'Cerato'\n",
      " 'Fabia' 'Explorer' 'Duster' 'Grand Caravan' 'X60' 'A6 Allroad' 'Mondeo'\n",
      " 'X6' '3163 Patriot' 'XC90' 'ASX' 'Kuga' 'Master' 'Juke' 'Fusion'\n",
      " 'Cayenne' 'Passat' 'Q5' 'Touareg' 'Teana' 'SX4' '3' 'Impreza XV' 'Venga'\n",
      " 'Pajero' 'Range Rover Evoque' 'Lancer' 'Outlander XL' 'Meriva' 'XC60'\n",
      " 'Mohave' 'Corolla' 'Другая модель (Легковое ТС)' 'Mokka' 'Lancer X'\n",
      " 'CX-5' 'Forester' 'Range Rover' 'Pathfinder' 'Camry' '6' 'Pajero Sport'\n",
      " 'Rapid' 'X-Trail' 'Verso' 'Albea' 'S40' 'X5' 'Highlander' 'Golf'\n",
      " '2170 Priora' '1117 Kalina' 'Outback' 'Symbol' 'Range Rover Sport'\n",
      " 'Impreza' '2115' 'ix55' '2114' 'Golf Plus' 'Murano' 'Cruze' 'Gentra'\n",
      " 'S-Max' 'Tucson' 'Spark' 'SR' 'Land Cruiser Prado' 'EcoSport'\n",
      " 'Land Cruiser 150' 'Getz' '5-series' 'Swift' 'Kyron' '3-series' 'S60'\n",
      " 'DS5' 'Picanto' 'Fiesta' 'Largus' 'Granta' 'Corsa' 'C' 'Civic' 'CL' 'A7'\n",
      " '1-series' 'Lacetti' 'Land Cruiser 200' 'A' '207' 'Insignia' '911' 'H-1'\n",
      " 'XC70' 'LX' 'Q3' 'Sandero Stepway' 'Panamera' 'Note' 'Expert' '3151'\n",
      " 'Auris' 'Другая модель (Автобус)' 'Aveo' 'A6' 'i30' 'Ibiza' 'E'\n",
      " 'Freelander' 'Roomster' 'Amarok' '308' 'L 200'\n",
      " 'Другая модель (Грузовое ТС)' 'Wrangler' 'Nexia' 'QX56' '5' '2172 Priora'\n",
      " 'Captiva' 'Ranger' 'Accent' '1119 Kalina' 'Q7' 'Pilot' 'Superb'\n",
      " 'Grand Cherokee' 'A3' 'Rexton' 'Jazz' 'Koleos' 'Legacy' 'Accord' 'Astra'\n",
      " 'Elantra' 'Edge' 'A4 Allroad' 'Berlingo' 'Sentra' 'Galaxy' 'GLK' 'MDX'\n",
      " 'GLA' 'Freemont' 'Vitara' 'Crosstour' 'Matiz' 'V' 'Cooper' 'Cherokee'\n",
      " 'Kangoo' '1118 Kalina' '2192 Kalina' 'Tourneo' 'Defender' 'Almera' 'A4'\n",
      " 'Avensis' 'Touran' 'Emgrand' '4-series' 'i20' 'Tahoe' 'Trailblazer'\n",
      " 'Sienna' 'M6' 'Patrol' 'RX' 'ML' 'Leon' 'Emgrand EC7' 'Solano' '7-series'\n",
      " 'C4' 'Multivan' '2104' 'S' 'Hover' 'S4' 'Yaris' '11173 Kalina' '3102'\n",
      " 'Sonata' 'Micra' '217230 Priora' 'Splash' 'i40' 'Scudo' 'on-DO' 'Viano'\n",
      " 'Caravelle' 'Z4' 'Grand Voyager' 'Tiggo (T11)' '5-series GT' 'G' 'TT'\n",
      " 'Clio' 'Navara' 'Nitro' 'GL' 'Grand Starex' 'QX70' 'Scirocco' 'QX80'\n",
      " 'CTS' '217130 Priora' '2' 'Prius' 'Epica' 'Jimny' 'C4 Aircross' 'Niva'\n",
      " 'V40' 'Hilux' '2131' 'Altea' 'C5' '107' 'Antara' 'A13' 'S-Type'\n",
      " 'Latitude' 'Alhambra' 'Santa Fe Classic' 'Fortwo' 'Venza' 'CX-9' 'Laguna'\n",
      " '3-series GT' 'Rezzo' 'Road partner' '23632' 'Equus' '4007' '2107' '408'\n",
      " '2121' '6-series' 'Xsara Picasso' '3008' 'B' 'Tingo' 'Transporter' 'RDX'\n",
      " 'F-Type' 'XV' 'RS5' 'Stavic' 'Compass' '307' 'Maverick' 'Caliber'\n",
      " 'Fortuner' 'A8' 'Grande Punto' 'FX' 'EX' 'Orlando' 'Terrano' 'GX'\n",
      " '217030 Priora' 'S80' 'Crafter' 'Grandeur' 'DS4' 'iQ' 'IndiS' 'IS' 'A1'\n",
      " 'MK Cross' 'M2' 'NP 300' 'A5' 'Colt' 'Punto' 'XF' 'DS3' 'S5' 'RS Q3'\n",
      " 'X6 M' 'Panda' 'Emgrand X7' '2171 Priora' 'CLS' 'X4' 'Land Cruiser 100'\n",
      " 'QQ6 (S21)' 'One' 'Cobalt' '206' 'MX-5' 'Corolla Verso' 'Carnival' 'ES'\n",
      " 'Smily' 'Cooper S' 'Partner' 'BLS' 'M5' 'Boxster' 'Escalade' 'Matrix'\n",
      " '2113' 'C30' '2-series' 'FR-V' 'X50' '2194 Kalina' 'Croma' 'Spectra'\n",
      " 'Commander' 'Kizashi' 'QX50' 'Express' 'S6' 'Focus ST' '42438' 'S8' '508'\n",
      " 'Q50' 'CLC' 'SRX' 'R8' 'Alphard' 'Town&Country' 'С4 aircross' 'Armada'\n",
      " 'Grand Santa Fe' 'Другая модель (Прицепы к грузовым автомобилям)' 'Boxer'\n",
      " 'V5' 'Veloster' 'C4 Picasso' 'PT Cruiser' 'XJ' 'Grandis' 'New Beetle'\n",
      " 'Journey' '11184 Kalina' 'V70' 'Sebring' 'MK' 'Vita' 'H3' 'Vectra' 'NF'\n",
      " 'Opirus' 'T21' 'Terios' 'NX' '4Runner' 'Countryman' 'Carens' 'Sprinter'\n",
      " 'Safe' 'M3' '2105' 'M4' 'Lanos' 'M11' 'F3' 'Jumper' 'Amulet (A15)'\n",
      " 'Caravan' 'Liberty' 'Kimo (S12)' 'M' 'NF Sonata' '500' 'Sequoia' 'CLK'\n",
      " 'RS6' 'X5 M' 'GS' 'S3' 'R' 'Avenger' 'Vito' 'BT-50' 'C1'\n",
      " 'Tourneo Connect' 'Macan' 'Sharan' 'CLA' 'Cebrium' 'JX' 'GT' '2110'\n",
      " 'Porter' 'RX-8' 'X-Type' 'V50' 'S7' 'Primera' 'Linea' 'RS4' 'Magentis'\n",
      " 'Expedition' 'Tribeca' '11193 Kalina' 'F150' 'Verna' '159' '11196 Kalina'\n",
      " 'LS' 'Ignis' 'Tundra' 'SL' 'SLK' 'Beetle' '217010 Priora' '7' 'TC'\n",
      " 'Estina' '4008' '2111' 'Hiace' '217210 Priora'\n",
      " 'Другая модель (Тракторы и спецтехника)' 'Escape' 'V60' 'MiTo' 'Wingle'\n",
      " 'Giulietta' 'Toledo' '11194 Kalina' 'Charger' 'Carisma' 'Tager'\n",
      " 'Transit Connect' '2112' 'K-series' 'Bravo' 'Breez' 'Celica' 'Cayman' 'Q'\n",
      " 'Phantom' 'Space Star' 'Allroad' 'mi-DO' 'Liana' '2310 pickup' 'Clubman'\n",
      " 'Besturn B50' '75' 'Fora (A21)' 'H2' 'Genesis' 'Ram' 'Tiggo 5'\n",
      " 'i45 Sonata' 'Carrera' 'Avalon' 'Galant' 'C3' 'Titan' 'Langie (B14)'\n",
      " 'Continental GT' 'RCZ' 'XK8' 'C-Elysee' 'Quoris' 'QX60' 'MPV' 'Eos'\n",
      " 'Patriot' '208' 'FJ Cruiser' '156' 'Phaeton' 'Starex' 'Legend' 'Trafic'\n",
      " '300C' '11183 Kalina' 'SC' 'ZDX' 'Sedici' 'Coolbear' 'RS7' 'Very' 'GT-R'\n",
      " 'Mustang' 'Impreza WRX STI' 'Trajet' 'Voyager' 'C100' 'Camaro'\n",
      " 'Lancer Evolution' 'Vision' 'ATS' '2109' 'Discovery Sport' '147' 'Q70'\n",
      " '301' 'GC6' 'Simbo' '<Пусто>' 'HR-V' 'Durango' 'Brera'\n",
      " '2194 Kalina Cross' 'Coupe' '3302']\n",
      "POLICY_INTERMEDIARY ['856' 'N' '171' ... '1306' '942' '930']\n",
      "INSURER_GENDER ['F' 'M']\n",
      "POLICY_CLM_N ['0' '1S' '2' '1L' '3' '4+' 'n/d']\n",
      "POLICY_CLM_GLT_N ['0' '1S' '2' '1L' '4+' '3' 'n/d']\n",
      "POLICY_PRV_CLM_N ['N' '0' '1L' '1S' '2' '3' '4+']\n",
      "POLICY_PRV_CLM_GLT_N ['N' '0' '1L' '1S' '2' '3' '4+']\n",
      "POLICY_YEARS_RENEWED_N ['0' '4' '1' '6' '3' '2' '7' '5' '10' '8' 'N' '9']\n",
      "CLIENT_REGISTRATION_REGION ['Тульская' 'Москва' 'Московская' 'Ленинградская' 'Санкт-Петербург' 'N'\n",
      " 'Ярославская' 'Владимирская' 'Архангельская' 'Новгородская' 'Вологодская'\n",
      " 'Калмыкия' 'Калужская' 'Мурманская' 'Смоленская' 'Мордовия'\n",
      " 'Нижегородская' 'Башкортостан' 'Псковская' 'Тамбовская' 'Астраханская'\n",
      " 'Чувашская Республика -' 'Краснодарский' 'Орловская' 'Свердловская'\n",
      " 'Рязанская' 'Саратовская' 'Ивановская' 'Калининградская' 'Тверская'\n",
      " 'Красноярский' 'Удмуртская' 'Брянская' 'Татарстан' 'Пензенская'\n",
      " 'Волгоградская' 'Липецкая' 'Кировская' 'Карелия' 'Новосибирская'\n",
      " 'Курская' 'Ростовская' 'Адыгея' 'Дагестан' 'Саха /Якутия/' 'Алтайский'\n",
      " 'Костромская' 'Марий Эл' 'Челябинская' 'Севастополь' 'Омская'\n",
      " 'Белгородская' 'Самарская' 'Воронежская'\n",
      " 'Ханты-Мансийский Автономный округ - Югра' 'Ставропольский'\n",
      " 'Ямало-Ненецкий' 'Томская' 'Сахалинская' 'Забайкальский' 'Пермский'\n",
      " 'Хабаровский' 'Ингушетия' 'Ульяновская' 'Кемеровская'\n",
      " 'Кабардино-Балкарская' 'Тюменская' 'Иркутская' 'Оренбургская'\n",
      " 'Курганская' 'Амурская' 'Коми' 'Карачаево-Черкесская' 'Чеченская' 'Крым'\n",
      " 'Хакасия' 'Северная Осетия - Алания' 'Бурятия' 'Тыва' 'Приморский'\n",
      " 'Алтай' 'Магаданская' 'Камчатский' 'Ненецкий' 'Чукотский']\n"
     ]
    }
   ],
   "source": [
    "for c in categorical_columns:\n",
    "    print (c, data[c].unique());"
   ]
  },
  {
   "cell_type": "markdown",
   "metadata": {},
   "source": [
    "Из вывода выше видно, что есть поля типа N, n/d, <Пусто>. Скорее всего это заполненные пустые поля типа (None). Оставим эти значения в данных, так как за нас их уже кто-то заполнил. Иначе, нам бы пришлось заполнять эти значения модой."
   ]
  },
  {
   "cell_type": "markdown",
   "metadata": {},
   "source": [
    "#### Выделяем бинарные признаки"
   ]
  },
  {
   "cell_type": "code",
   "execution_count": 9,
   "metadata": {},
   "outputs": [
    {
     "name": "stdout",
     "output_type": "stream",
     "text": [
      "Бинарные признаки:  ['DATA_TYPE', 'POLICY_BRANCH', 'INSURER_GENDER', 'VEHICLE_IN_CREDIT', 'CLIENT_HAS_DAGO', 'CLIENT_HAS_OSAGO', 'POLICY_COURT_SIGN', 'POLICY_HAS_COMPLAINTS']\n"
     ]
    }
   ],
   "source": [
    "data_describe = data.describe(include=[object])\n",
    "binary_columns = [c for c in categorical_columns if data_describe[c]['unique'] == 2]\n",
    "for i in binary_columns:\n",
    "    if i in categorical_columns:\n",
    "        categorical_columns.remove(i)\n",
    "binary_columns += ['VEHICLE_IN_CREDIT','CLIENT_HAS_DAGO','CLIENT_HAS_OSAGO','POLICY_COURT_SIGN','POLICY_HAS_COMPLAINTS']\n",
    "for i in binary_columns:\n",
    "    if i in numerical_columns:\n",
    "        numerical_columns.remove(i) #удаляем дубликаты из списка\n",
    "print('Бинарные признаки: ', binary_columns)"
   ]
  },
  {
   "cell_type": "markdown",
   "metadata": {},
   "source": [
    "#### Выделяем в отдельный лист числовые признаки похожие на категориальные"
   ]
  },
  {
   "cell_type": "code",
   "execution_count": 10,
   "metadata": {},
   "outputs": [],
   "source": [
    "num_categorical_columns = ['POLICY_SALES_CHANNEL_GROUP', 'POLICY_SALES_CHANNEL', 'POLICY_END_MONTH', 'POLICY_BEGIN_MONTH']\n",
    "for i in num_categorical_columns:\n",
    "    numerical_columns.remove(i)"
   ]
  },
  {
   "cell_type": "markdown",
   "metadata": {},
   "source": [
    "## 1.4 Чистка данных"
   ]
  },
  {
   "cell_type": "markdown",
   "metadata": {},
   "source": [
    "Есть колонки, которые смысла не несут, это DATA_TYPE - тип выборки и POLICY_ID - ID полиса. Также удалим из набора столбец POLICY_IS_RENEWED - прогнозируемый параметр"
   ]
  },
  {
   "cell_type": "code",
   "execution_count": 13,
   "metadata": {},
   "outputs": [],
   "source": [
    "numerical_columns.remove('POLICY_IS_RENEWED')\n",
    "binary_columns.remove('DATA_TYPE')\n",
    "numerical_columns.remove('POLICY_ID')"
   ]
  },
  {
   "cell_type": "markdown",
   "metadata": {},
   "source": [
    "### Поиск выбросов"
   ]
  },
  {
   "cell_type": "code",
   "execution_count": 29,
   "metadata": {},
   "outputs": [
    {
     "data": {
      "text/html": [
       "<div>\n",
       "<style scoped>\n",
       "    .dataframe tbody tr th:only-of-type {\n",
       "        vertical-align: middle;\n",
       "    }\n",
       "\n",
       "    .dataframe tbody tr th {\n",
       "        vertical-align: top;\n",
       "    }\n",
       "\n",
       "    .dataframe thead th {\n",
       "        text-align: right;\n",
       "    }\n",
       "</style>\n",
       "<table border=\"1\" class=\"dataframe\">\n",
       "  <thead>\n",
       "    <tr style=\"text-align: right;\">\n",
       "      <th></th>\n",
       "      <th>POLICY_MIN_AGE</th>\n",
       "      <th>POLICY_MIN_DRIVING_EXPERIENCE</th>\n",
       "      <th>VEHICLE_ENGINE_POWER</th>\n",
       "      <th>VEHICLE_SUM_INSURED</th>\n",
       "      <th>CLAIM_AVG_ACC_ST_PRD</th>\n",
       "      <th>POLICY_DEDUCT_VALUE</th>\n",
       "      <th>POLICY_PRICE_CHANGE</th>\n",
       "    </tr>\n",
       "  </thead>\n",
       "  <tbody>\n",
       "    <tr>\n",
       "      <th>count</th>\n",
       "      <td>96605.00</td>\n",
       "      <td>96605.00</td>\n",
       "      <td>96605.00</td>\n",
       "      <td>9.66e+04</td>\n",
       "      <td>96605.00</td>\n",
       "      <td>96605.00</td>\n",
       "      <td>96605.00</td>\n",
       "    </tr>\n",
       "    <tr>\n",
       "      <th>mean</th>\n",
       "      <td>42.58</td>\n",
       "      <td>34.91</td>\n",
       "      <td>154.20</td>\n",
       "      <td>9.81e+05</td>\n",
       "      <td>3.88</td>\n",
       "      <td>5974.13</td>\n",
       "      <td>-0.03</td>\n",
       "    </tr>\n",
       "    <tr>\n",
       "      <th>std</th>\n",
       "      <td>10.69</td>\n",
       "      <td>199.93</td>\n",
       "      <td>54.12</td>\n",
       "      <td>6.90e+05</td>\n",
       "      <td>17.64</td>\n",
       "      <td>10418.70</td>\n",
       "      <td>0.86</td>\n",
       "    </tr>\n",
       "    <tr>\n",
       "      <th>min</th>\n",
       "      <td>18.00</td>\n",
       "      <td>0.00</td>\n",
       "      <td>0.00</td>\n",
       "      <td>0.00e+00</td>\n",
       "      <td>0.00</td>\n",
       "      <td>0.00</td>\n",
       "      <td>-1.00</td>\n",
       "    </tr>\n",
       "    <tr>\n",
       "      <th>25%</th>\n",
       "      <td>34.00</td>\n",
       "      <td>8.00</td>\n",
       "      <td>123.00</td>\n",
       "      <td>5.58e+05</td>\n",
       "      <td>0.00</td>\n",
       "      <td>0.00</td>\n",
       "      <td>-0.17</td>\n",
       "    </tr>\n",
       "    <tr>\n",
       "      <th>50%</th>\n",
       "      <td>41.00</td>\n",
       "      <td>14.00</td>\n",
       "      <td>146.00</td>\n",
       "      <td>8.09e+05</td>\n",
       "      <td>0.00</td>\n",
       "      <td>0.00</td>\n",
       "      <td>0.00</td>\n",
       "    </tr>\n",
       "    <tr>\n",
       "      <th>75%</th>\n",
       "      <td>50.00</td>\n",
       "      <td>19.00</td>\n",
       "      <td>171.00</td>\n",
       "      <td>1.16e+06</td>\n",
       "      <td>0.00</td>\n",
       "      <td>10000.00</td>\n",
       "      <td>0.05</td>\n",
       "    </tr>\n",
       "    <tr>\n",
       "      <th>max</th>\n",
       "      <td>86.00</td>\n",
       "      <td>2015.00</td>\n",
       "      <td>2000.00</td>\n",
       "      <td>9.45e+06</td>\n",
       "      <td>737.00</td>\n",
       "      <td>120873.00</td>\n",
       "      <td>60.02</td>\n",
       "    </tr>\n",
       "  </tbody>\n",
       "</table>\n",
       "</div>"
      ],
      "text/plain": [
       "       POLICY_MIN_AGE  POLICY_MIN_DRIVING_EXPERIENCE  VEHICLE_ENGINE_POWER  \\\n",
       "count        96605.00                       96605.00              96605.00   \n",
       "mean            42.58                          34.91                154.20   \n",
       "std             10.69                         199.93                 54.12   \n",
       "min             18.00                           0.00                  0.00   \n",
       "25%             34.00                           8.00                123.00   \n",
       "50%             41.00                          14.00                146.00   \n",
       "75%             50.00                          19.00                171.00   \n",
       "max             86.00                        2015.00               2000.00   \n",
       "\n",
       "       VEHICLE_SUM_INSURED  CLAIM_AVG_ACC_ST_PRD  POLICY_DEDUCT_VALUE  \\\n",
       "count             9.66e+04              96605.00             96605.00   \n",
       "mean              9.81e+05                  3.88              5974.13   \n",
       "std               6.90e+05                 17.64             10418.70   \n",
       "min               0.00e+00                  0.00                 0.00   \n",
       "25%               5.58e+05                  0.00                 0.00   \n",
       "50%               8.09e+05                  0.00                 0.00   \n",
       "75%               1.16e+06                  0.00             10000.00   \n",
       "max               9.45e+06                737.00            120873.00   \n",
       "\n",
       "       POLICY_PRICE_CHANGE  \n",
       "count             96605.00  \n",
       "mean                 -0.03  \n",
       "std                   0.86  \n",
       "min                  -1.00  \n",
       "25%                  -0.17  \n",
       "50%                   0.00  \n",
       "75%                   0.05  \n",
       "max                  60.02  "
      ]
     },
     "execution_count": 29,
     "metadata": {},
     "output_type": "execute_result"
    }
   ],
   "source": [
    "data[numerical_columns].describe()"
   ]
  },
  {
   "cell_type": "markdown",
   "metadata": {},
   "source": [
    "Видно сильные выбросы в столбце POLICY_MIN_DRIVING_EXPERIENCE: макс.знач. = 2015.00 при mean = 34.91 и квантиле 0.75 = 19.00 Проверим сколько выбросов в этом столбце."
   ]
  },
  {
   "cell_type": "code",
   "execution_count": 47,
   "metadata": {},
   "outputs": [
    {
     "data": {
      "text/plain": [
       "992"
      ]
     },
     "execution_count": 47,
     "metadata": {},
     "output_type": "execute_result"
    }
   ],
   "source": [
    "print('Кол-во выбросов в POLICY_MIN_DRIVING_EXPERIENCE: ',\n",
    "      data[data['POLICY_MIN_DRIVING_EXPERIENCE']>100]['POLICY_MIN_DRIVING_EXPERIENCE'].count())"
   ]
  },
  {
   "cell_type": "markdown",
   "metadata": {},
   "source": [
    "Видно достаточно большое кол-во выбросов. От них необходимо избавиться. По виду этих выбросов видно, что они соответсвуют не признаку \"Минимальный стаж вождения лиц допущенных к управлению по полису\", а скорее дате выдачи прав. Поэтому приведем эти выбросы к нужному нам формату путем вычета данных из текущего года."
   ]
  },
  {
   "cell_type": "code",
   "execution_count": 72,
   "metadata": {},
   "outputs": [
    {
     "name": "stdout",
     "output_type": "stream",
     "text": [
      "0\n"
     ]
    }
   ],
   "source": [
    "data['POLICY_MIN_DRIVING_EXPERIENCE'] = np.where(data['POLICY_MIN_DRIVING_EXPERIENCE'] > 100, \n",
    "                                                 2019 - data['POLICY_MIN_DRIVING_EXPERIENCE'], \n",
    "                                                 data['POLICY_MIN_DRIVING_EXPERIENCE'])\n",
    "print('Кол-во выбросов в POLICY_MIN_DRIVING_EXPERIENCE: ',\n",
    "      data[data['POLICY_MIN_DRIVING_EXPERIENCE']>100]['POLICY_MIN_DRIVING_EXPERIENCE'].count())"
   ]
  },
  {
   "cell_type": "markdown",
   "metadata": {},
   "source": [
    "sdfsdsdfdgdg"
   ]
  },
  {
   "cell_type": "code",
   "execution_count": 81,
   "metadata": {},
   "outputs": [
    {
     "data": {
      "text/html": [
       "<div>\n",
       "<style scoped>\n",
       "    .dataframe tbody tr th:only-of-type {\n",
       "        vertical-align: middle;\n",
       "    }\n",
       "\n",
       "    .dataframe tbody tr th {\n",
       "        vertical-align: top;\n",
       "    }\n",
       "\n",
       "    .dataframe thead th {\n",
       "        text-align: right;\n",
       "    }\n",
       "</style>\n",
       "<table border=\"1\" class=\"dataframe\">\n",
       "  <thead>\n",
       "    <tr style=\"text-align: right;\">\n",
       "      <th></th>\n",
       "      <th>VEHICLE_ENGINE_POWER</th>\n",
       "      <th>DATA_TYPE</th>\n",
       "      <th>VEHICLE_SUM_INSURED</th>\n",
       "    </tr>\n",
       "  </thead>\n",
       "  <tbody>\n",
       "    <tr>\n",
       "      <th>87766</th>\n",
       "      <td>2000.0</td>\n",
       "      <td>TRAIN</td>\n",
       "      <td>765450.0</td>\n",
       "    </tr>\n",
       "    <tr>\n",
       "      <th>90318</th>\n",
       "      <td>1148.0</td>\n",
       "      <td>TRAIN</td>\n",
       "      <td>763174.0</td>\n",
       "    </tr>\n",
       "  </tbody>\n",
       "</table>\n",
       "</div>"
      ],
      "text/plain": [
       "       VEHICLE_ENGINE_POWER DATA_TYPE  VEHICLE_SUM_INSURED\n",
       "87766                2000.0     TRAIN             765450.0\n",
       "90318                1148.0     TRAIN             763174.0"
      ]
     },
     "execution_count": 81,
     "metadata": {},
     "output_type": "execute_result"
    }
   ],
   "source": [
    "data[data['VEHICLE_ENGINE_POWER']>1000][{'VEHICLE_ENGINE_POWER','VEHICLE_SUM_INSURED', 'DATA_TYPE'}]"
   ]
  },
  {
   "cell_type": "code",
   "execution_count": null,
   "metadata": {},
   "outputs": [],
   "source": [
    "data['VEHICLE_ENGINE_POWER'] = np.where(data['VEHICLE_ENGINE_POWER'] > 1000, \n",
    "                                                 2019 - data['VEHICLE_ENGINE_POWER'], \n",
    "                                                 data['VEHICLE_ENGINE_POWER'])"
   ]
  },
  {
   "cell_type": "code",
   "execution_count": 91,
   "metadata": {},
   "outputs": [
    {
     "data": {
      "text/html": [
       "<div>\n",
       "<style scoped>\n",
       "    .dataframe tbody tr th:only-of-type {\n",
       "        vertical-align: middle;\n",
       "    }\n",
       "\n",
       "    .dataframe tbody tr th {\n",
       "        vertical-align: top;\n",
       "    }\n",
       "\n",
       "    .dataframe thead th {\n",
       "        text-align: right;\n",
       "    }\n",
       "</style>\n",
       "<table border=\"1\" class=\"dataframe\">\n",
       "  <thead>\n",
       "    <tr style=\"text-align: right;\">\n",
       "      <th></th>\n",
       "      <th>DATA_TYPE</th>\n",
       "      <th>POLICY_ID</th>\n",
       "      <th>POLICY_BEGIN_MONTH</th>\n",
       "      <th>POLICY_END_MONTH</th>\n",
       "      <th>POLICY_IS_RENEWED</th>\n",
       "      <th>POLICY_SALES_CHANNEL</th>\n",
       "      <th>POLICY_SALES_CHANNEL_GROUP</th>\n",
       "      <th>POLICY_BRANCH</th>\n",
       "      <th>POLICY_MIN_AGE</th>\n",
       "      <th>POLICY_MIN_DRIVING_EXPERIENCE</th>\n",
       "      <th>...</th>\n",
       "      <th>POLICY_PRV_CLM_GLT_N</th>\n",
       "      <th>CLIENT_HAS_DAGO</th>\n",
       "      <th>CLIENT_HAS_OSAGO</th>\n",
       "      <th>POLICY_COURT_SIGN</th>\n",
       "      <th>CLAIM_AVG_ACC_ST_PRD</th>\n",
       "      <th>POLICY_HAS_COMPLAINTS</th>\n",
       "      <th>POLICY_YEARS_RENEWED_N</th>\n",
       "      <th>POLICY_DEDUCT_VALUE</th>\n",
       "      <th>CLIENT_REGISTRATION_REGION</th>\n",
       "      <th>POLICY_PRICE_CHANGE</th>\n",
       "    </tr>\n",
       "  </thead>\n",
       "  <tbody>\n",
       "    <tr>\n",
       "      <th>87766</th>\n",
       "      <td>TRAIN</td>\n",
       "      <td>87767</td>\n",
       "      <td>1</td>\n",
       "      <td>1</td>\n",
       "      <td>0</td>\n",
       "      <td>50</td>\n",
       "      <td>5</td>\n",
       "      <td>Москва</td>\n",
       "      <td>34</td>\n",
       "      <td>6</td>\n",
       "      <td>...</td>\n",
       "      <td>0</td>\n",
       "      <td>1</td>\n",
       "      <td>0</td>\n",
       "      <td>0</td>\n",
       "      <td>0.0</td>\n",
       "      <td>0</td>\n",
       "      <td>2</td>\n",
       "      <td>15000.0</td>\n",
       "      <td>Москва</td>\n",
       "      <td>0.05</td>\n",
       "    </tr>\n",
       "    <tr>\n",
       "      <th>90318</th>\n",
       "      <td>TRAIN</td>\n",
       "      <td>90319</td>\n",
       "      <td>4</td>\n",
       "      <td>4</td>\n",
       "      <td>0</td>\n",
       "      <td>55</td>\n",
       "      <td>6</td>\n",
       "      <td>Москва</td>\n",
       "      <td>36</td>\n",
       "      <td>9</td>\n",
       "      <td>...</td>\n",
       "      <td>1S</td>\n",
       "      <td>0</td>\n",
       "      <td>0</td>\n",
       "      <td>0</td>\n",
       "      <td>0.0</td>\n",
       "      <td>0</td>\n",
       "      <td>2</td>\n",
       "      <td>0.0</td>\n",
       "      <td>Московская</td>\n",
       "      <td>0.12</td>\n",
       "    </tr>\n",
       "  </tbody>\n",
       "</table>\n",
       "<p>2 rows × 30 columns</p>\n",
       "</div>"
      ],
      "text/plain": [
       "      DATA_TYPE  POLICY_ID  POLICY_BEGIN_MONTH  POLICY_END_MONTH  \\\n",
       "87766     TRAIN      87767                   1                 1   \n",
       "90318     TRAIN      90319                   4                 4   \n",
       "\n",
       "       POLICY_IS_RENEWED  POLICY_SALES_CHANNEL  POLICY_SALES_CHANNEL_GROUP  \\\n",
       "87766                  0                    50                           5   \n",
       "90318                  0                    55                           6   \n",
       "\n",
       "      POLICY_BRANCH  POLICY_MIN_AGE  POLICY_MIN_DRIVING_EXPERIENCE  ...  \\\n",
       "87766        Москва              34                              6  ...   \n",
       "90318        Москва              36                              9  ...   \n",
       "\n",
       "      POLICY_PRV_CLM_GLT_N CLIENT_HAS_DAGO  CLIENT_HAS_OSAGO  \\\n",
       "87766                    0               1                 0   \n",
       "90318                   1S               0                 0   \n",
       "\n",
       "       POLICY_COURT_SIGN  CLAIM_AVG_ACC_ST_PRD POLICY_HAS_COMPLAINTS  \\\n",
       "87766                  0                   0.0                     0   \n",
       "90318                  0                   0.0                     0   \n",
       "\n",
       "      POLICY_YEARS_RENEWED_N POLICY_DEDUCT_VALUE CLIENT_REGISTRATION_REGION  \\\n",
       "87766                      2             15000.0                     Москва   \n",
       "90318                      2                 0.0                 Московская   \n",
       "\n",
       "      POLICY_PRICE_CHANGE  \n",
       "87766                0.05  \n",
       "90318                0.12  \n",
       "\n",
       "[2 rows x 30 columns]"
      ]
     },
     "execution_count": 91,
     "metadata": {},
     "output_type": "execute_result"
    }
   ],
   "source": [
    "data[(data['VEHICLE_ENGINE_POWER'] > 1000) & (data['DATA_TYPE']=='TRAIN')]"
   ]
  },
  {
   "cell_type": "code",
   "execution_count": 86,
   "metadata": {},
   "outputs": [
    {
     "data": {
      "text/html": [
       "<div>\n",
       "<style scoped>\n",
       "    .dataframe tbody tr th:only-of-type {\n",
       "        vertical-align: middle;\n",
       "    }\n",
       "\n",
       "    .dataframe tbody tr th {\n",
       "        vertical-align: top;\n",
       "    }\n",
       "\n",
       "    .dataframe thead th {\n",
       "        text-align: right;\n",
       "    }\n",
       "</style>\n",
       "<table border=\"1\" class=\"dataframe\">\n",
       "  <thead>\n",
       "    <tr style=\"text-align: right;\">\n",
       "      <th></th>\n",
       "      <th>VEHICLE_ENGINE_POWER</th>\n",
       "      <th>DATA_TYPE</th>\n",
       "      <th>VEHICLE_SUM_INSURED</th>\n",
       "    </tr>\n",
       "  </thead>\n",
       "  <tbody>\n",
       "    <tr>\n",
       "      <th>5537</th>\n",
       "      <td>456.0</td>\n",
       "      <td>TEST</td>\n",
       "      <td>7.80e+06</td>\n",
       "    </tr>\n",
       "    <tr>\n",
       "      <th>6547</th>\n",
       "      <td>430.0</td>\n",
       "      <td>TRAIN</td>\n",
       "      <td>7.70e+06</td>\n",
       "    </tr>\n",
       "    <tr>\n",
       "      <th>6655</th>\n",
       "      <td>339.0</td>\n",
       "      <td>TRAIN</td>\n",
       "      <td>7.54e+06</td>\n",
       "    </tr>\n",
       "    <tr>\n",
       "      <th>7443</th>\n",
       "      <td>340.0</td>\n",
       "      <td>TEST</td>\n",
       "      <td>7.70e+06</td>\n",
       "    </tr>\n",
       "    <tr>\n",
       "      <th>18193</th>\n",
       "      <td>560.0</td>\n",
       "      <td>TRAIN</td>\n",
       "      <td>7.60e+06</td>\n",
       "    </tr>\n",
       "    <tr>\n",
       "      <th>44971</th>\n",
       "      <td>544.0</td>\n",
       "      <td>TRAIN</td>\n",
       "      <td>8.00e+06</td>\n",
       "    </tr>\n",
       "    <tr>\n",
       "      <th>56447</th>\n",
       "      <td>560.0</td>\n",
       "      <td>TRAIN</td>\n",
       "      <td>9.45e+06</td>\n",
       "    </tr>\n",
       "    <tr>\n",
       "      <th>68382</th>\n",
       "      <td>475.0</td>\n",
       "      <td>TEST</td>\n",
       "      <td>8.00e+06</td>\n",
       "    </tr>\n",
       "    <tr>\n",
       "      <th>96266</th>\n",
       "      <td>388.0</td>\n",
       "      <td>TRAIN</td>\n",
       "      <td>7.50e+06</td>\n",
       "    </tr>\n",
       "  </tbody>\n",
       "</table>\n",
       "</div>"
      ],
      "text/plain": [
       "       VEHICLE_ENGINE_POWER DATA_TYPE  VEHICLE_SUM_INSURED\n",
       "5537                  456.0     TEST              7.80e+06\n",
       "6547                  430.0     TRAIN             7.70e+06\n",
       "6655                  339.0     TRAIN             7.54e+06\n",
       "7443                  340.0     TEST              7.70e+06\n",
       "18193                 560.0     TRAIN             7.60e+06\n",
       "44971                 544.0     TRAIN             8.00e+06\n",
       "56447                 560.0     TRAIN             9.45e+06\n",
       "68382                 475.0     TEST              8.00e+06\n",
       "96266                 388.0     TRAIN             7.50e+06"
      ]
     },
     "execution_count": 86,
     "metadata": {},
     "output_type": "execute_result"
    }
   ],
   "source": [
    "data[data['VEHICLE_SUM_INSURED']>7.5e+06][{'VEHICLE_ENGINE_POWER','VEHICLE_SUM_INSURED', 'DATA_TYPE'}]"
   ]
  },
  {
   "cell_type": "code",
   "execution_count": 49,
   "metadata": {},
   "outputs": [],
   "source": [
    "from scipy import stats\n",
    "data[(np.abs(stats.zscore(data[numerical_columns])) < 1).all(axis=1)];"
   ]
  },
  {
   "cell_type": "markdown",
   "metadata": {},
   "source": [
    "Проведем исследование признаков на линейную зависимость. Для этого выведем матрицу корреляции."
   ]
  },
  {
   "cell_type": "code",
   "execution_count": 66,
   "metadata": {},
   "outputs": [
    {
     "data": {
      "text/html": [
       "<div>\n",
       "<style scoped>\n",
       "    .dataframe tbody tr th:only-of-type {\n",
       "        vertical-align: middle;\n",
       "    }\n",
       "\n",
       "    .dataframe tbody tr th {\n",
       "        vertical-align: top;\n",
       "    }\n",
       "\n",
       "    .dataframe thead th {\n",
       "        text-align: right;\n",
       "    }\n",
       "</style>\n",
       "<table border=\"1\" class=\"dataframe\">\n",
       "  <thead>\n",
       "    <tr style=\"text-align: right;\">\n",
       "      <th></th>\n",
       "      <th>POLICY_MIN_AGE</th>\n",
       "      <th>POLICY_MIN_DRIVING_EXPERIENCE</th>\n",
       "      <th>VEHICLE_ENGINE_POWER</th>\n",
       "      <th>VEHICLE_SUM_INSURED</th>\n",
       "      <th>CLAIM_AVG_ACC_ST_PRD</th>\n",
       "      <th>POLICY_DEDUCT_VALUE</th>\n",
       "      <th>POLICY_PRICE_CHANGE</th>\n",
       "    </tr>\n",
       "  </thead>\n",
       "  <tbody>\n",
       "    <tr>\n",
       "      <th>POLICY_MIN_AGE</th>\n",
       "      <td>1.00</td>\n",
       "      <td>2.51e-02</td>\n",
       "      <td>-6.29e-02</td>\n",
       "      <td>-4.82e-02</td>\n",
       "      <td>-2.76e-02</td>\n",
       "      <td>-0.16</td>\n",
       "      <td>-1.99e-02</td>\n",
       "    </tr>\n",
       "    <tr>\n",
       "      <th>POLICY_MIN_DRIVING_EXPERIENCE</th>\n",
       "      <td>0.03</td>\n",
       "      <td>1.00e+00</td>\n",
       "      <td>-2.65e-03</td>\n",
       "      <td>4.59e-02</td>\n",
       "      <td>-8.21e-03</td>\n",
       "      <td>0.04</td>\n",
       "      <td>-8.30e-03</td>\n",
       "    </tr>\n",
       "    <tr>\n",
       "      <th>VEHICLE_ENGINE_POWER</th>\n",
       "      <td>-0.06</td>\n",
       "      <td>-2.65e-03</td>\n",
       "      <td>1.00e+00</td>\n",
       "      <td>7.80e-01</td>\n",
       "      <td>3.38e-05</td>\n",
       "      <td>-0.04</td>\n",
       "      <td>4.29e-02</td>\n",
       "    </tr>\n",
       "    <tr>\n",
       "      <th>VEHICLE_SUM_INSURED</th>\n",
       "      <td>-0.05</td>\n",
       "      <td>4.59e-02</td>\n",
       "      <td>7.80e-01</td>\n",
       "      <td>1.00e+00</td>\n",
       "      <td>5.66e-03</td>\n",
       "      <td>-0.06</td>\n",
       "      <td>1.75e-02</td>\n",
       "    </tr>\n",
       "    <tr>\n",
       "      <th>CLAIM_AVG_ACC_ST_PRD</th>\n",
       "      <td>-0.03</td>\n",
       "      <td>-8.21e-03</td>\n",
       "      <td>3.38e-05</td>\n",
       "      <td>5.66e-03</td>\n",
       "      <td>1.00e+00</td>\n",
       "      <td>-0.05</td>\n",
       "      <td>1.36e-02</td>\n",
       "    </tr>\n",
       "    <tr>\n",
       "      <th>POLICY_DEDUCT_VALUE</th>\n",
       "      <td>-0.16</td>\n",
       "      <td>4.16e-02</td>\n",
       "      <td>-3.53e-02</td>\n",
       "      <td>-6.11e-02</td>\n",
       "      <td>-4.98e-02</td>\n",
       "      <td>1.00</td>\n",
       "      <td>-4.07e-02</td>\n",
       "    </tr>\n",
       "    <tr>\n",
       "      <th>POLICY_PRICE_CHANGE</th>\n",
       "      <td>-0.02</td>\n",
       "      <td>-8.30e-03</td>\n",
       "      <td>4.29e-02</td>\n",
       "      <td>1.75e-02</td>\n",
       "      <td>1.36e-02</td>\n",
       "      <td>-0.04</td>\n",
       "      <td>1.00e+00</td>\n",
       "    </tr>\n",
       "  </tbody>\n",
       "</table>\n",
       "</div>"
      ],
      "text/plain": [
       "                               POLICY_MIN_AGE  POLICY_MIN_DRIVING_EXPERIENCE  \\\n",
       "POLICY_MIN_AGE                           1.00                       2.51e-02   \n",
       "POLICY_MIN_DRIVING_EXPERIENCE            0.03                       1.00e+00   \n",
       "VEHICLE_ENGINE_POWER                    -0.06                      -2.65e-03   \n",
       "VEHICLE_SUM_INSURED                     -0.05                       4.59e-02   \n",
       "CLAIM_AVG_ACC_ST_PRD                    -0.03                      -8.21e-03   \n",
       "POLICY_DEDUCT_VALUE                     -0.16                       4.16e-02   \n",
       "POLICY_PRICE_CHANGE                     -0.02                      -8.30e-03   \n",
       "\n",
       "                               VEHICLE_ENGINE_POWER  VEHICLE_SUM_INSURED  \\\n",
       "POLICY_MIN_AGE                            -6.29e-02            -4.82e-02   \n",
       "POLICY_MIN_DRIVING_EXPERIENCE             -2.65e-03             4.59e-02   \n",
       "VEHICLE_ENGINE_POWER                       1.00e+00             7.80e-01   \n",
       "VEHICLE_SUM_INSURED                        7.80e-01             1.00e+00   \n",
       "CLAIM_AVG_ACC_ST_PRD                       3.38e-05             5.66e-03   \n",
       "POLICY_DEDUCT_VALUE                       -3.53e-02            -6.11e-02   \n",
       "POLICY_PRICE_CHANGE                        4.29e-02             1.75e-02   \n",
       "\n",
       "                               CLAIM_AVG_ACC_ST_PRD  POLICY_DEDUCT_VALUE  \\\n",
       "POLICY_MIN_AGE                            -2.76e-02                -0.16   \n",
       "POLICY_MIN_DRIVING_EXPERIENCE             -8.21e-03                 0.04   \n",
       "VEHICLE_ENGINE_POWER                       3.38e-05                -0.04   \n",
       "VEHICLE_SUM_INSURED                        5.66e-03                -0.06   \n",
       "CLAIM_AVG_ACC_ST_PRD                       1.00e+00                -0.05   \n",
       "POLICY_DEDUCT_VALUE                       -4.98e-02                 1.00   \n",
       "POLICY_PRICE_CHANGE                        1.36e-02                -0.04   \n",
       "\n",
       "                               POLICY_PRICE_CHANGE  \n",
       "POLICY_MIN_AGE                           -1.99e-02  \n",
       "POLICY_MIN_DRIVING_EXPERIENCE            -8.30e-03  \n",
       "VEHICLE_ENGINE_POWER                      4.29e-02  \n",
       "VEHICLE_SUM_INSURED                       1.75e-02  \n",
       "CLAIM_AVG_ACC_ST_PRD                      1.36e-02  \n",
       "POLICY_DEDUCT_VALUE                      -4.07e-02  \n",
       "POLICY_PRICE_CHANGE                       1.00e+00  "
      ]
     },
     "execution_count": 66,
     "metadata": {},
     "output_type": "execute_result"
    }
   ],
   "source": [
    "corr_matrix = data[numerical_columns].corr()\n",
    "corr_matrix"
   ]
  },
  {
   "cell_type": "code",
   "execution_count": 191,
   "metadata": {},
   "outputs": [
    {
     "name": "stdout",
     "output_type": "stream",
     "text": [
      "Максимальные значения коэф. кор.:\n",
      " POLICY_MIN_AGE                   0.03\n",
      "POLICY_MIN_DRIVING_EXPERIENCE    0.05\n",
      "VEHICLE_ENGINE_POWER             0.78\n",
      "VEHICLE_SUM_INSURED              0.78\n",
      "CLAIM_AVG_ACC_ST_PRD             0.01\n",
      "POLICY_DEDUCT_VALUE              0.04\n",
      "POLICY_PRICE_CHANGE              0.04\n",
      "dtype: float64\n"
     ]
    }
   ],
   "source": [
    "str_max = np.amax(corr_matrix - np.eye(len(corr_matrix)))\n",
    "print('Максимальные значения коэф. кор.:\\n', str_max)"
   ]
  },
  {
   "cell_type": "code",
   "execution_count": null,
   "metadata": {},
   "outputs": [],
   "source": [
    "Из всех данных выделяются признаки "
   ]
  },
  {
   "cell_type": "code",
   "execution_count": 21,
   "metadata": {},
   "outputs": [
    {
     "data": {
      "image/png": "[encoded data removed]",
      "text/plain": [
       "<Figure size 720x720 with 4 Axes>"
      ]
     },
     "metadata": {
      "needs_background": "light"
     },
     "output_type": "display_data"
    }
   ],
   "source": [
    "from pandas.plotting import scatter_matrix\n",
    "scatter_matrix(data[['VEHICLE_ENGINE_POWER','VEHICLE_SUM_INSURED']], alpha=0.05, figsize=(10, 10));"
   ]
  },
  {
   "cell_type": "code",
   "execution_count": 74,
   "metadata": {},
   "outputs": [
    {
     "data": {
      "image/png": "[encoded data removed]",
      "text/plain": [
       "<Figure size 720x432 with 1 Axes>"
      ]
     },
     "metadata": {
      "needs_background": "light"
     },
     "output_type": "display_data"
    }
   ],
   "source": [
    "col1 = 'VEHICLE_ENGINE_POWER'\n",
    "col2 = 'VEHICLE_SUM_INSURED'\n",
    "\n",
    "plt.figure(figsize=(10, 6))\n",
    "\n",
    "plt.scatter(data[col1][data['POLICY_IS_RENEWED'] == 1],\n",
    "            data[col2][data['POLICY_IS_RENEWED'] == 1],\n",
    "            alpha=0.75,\n",
    "            color='red',\n",
    "            label='+')\n",
    "\n",
    "plt.scatter(data[col1][data['POLICY_IS_RENEWED'] == 0],\n",
    "            data[col2][data['POLICY_IS_RENEWED'] == 0],\n",
    "            alpha=0.75,\n",
    "            color='blue',\n",
    "            label='-')\n",
    "\n",
    "plt.xlabel(col1)\n",
    "plt.ylabel(col2)\n",
    "plt.legend(loc='best');"
   ]
  },
  {
   "cell_type": "markdown",
   "metadata": {},
   "source": [
    "Проведем исследование СКО числовых признаков."
   ]
  },
  {
   "cell_type": "code",
   "execution_count": 19,
   "metadata": {},
   "outputs": [
    {
     "data": {
      "text/plain": [
       "POLICY_COURT_SIGN                     0.03\n",
       "POLICY_HAS_COMPLAINTS                 0.09\n",
       "CLIENT_HAS_DAGO                       0.45\n",
       "VEHICLE_IN_CREDIT                     0.47\n",
       "CLIENT_HAS_OSAGO                      0.50\n",
       "POLICY_PRICE_CHANGE                   0.86\n",
       "POLICY_MIN_AGE                       10.69\n",
       "CLAIM_AVG_ACC_ST_PRD                 17.64\n",
       "VEHICLE_ENGINE_POWER                 54.12\n",
       "POLICY_MIN_DRIVING_EXPERIENCE       199.93\n",
       "POLICY_DEDUCT_VALUE               10418.70\n",
       "VEHICLE_SUM_INSURED              690091.88\n",
       "dtype: float64"
      ]
     },
     "execution_count": 19,
     "metadata": {},
     "output_type": "execute_result"
    }
   ],
   "source": [
    "data[numerical_columns+binary_columns].std().sort_values()"
   ]
  },
  {
   "cell_type": "markdown",
   "metadata": {},
   "source": [
    "Из таблицы выше видно, что у столбцов POLICY_HAS_COMPLAINTS и POLICY_COURT_SIGN показатель std (СКО) близок к нулю, т.е. эти признаки слабо изменчивы и скорее всего у них наблюдается \"перекос\" значений. Это тоже кандидаты на удаление признаки. Cделаем дополнительную проверку."
   ]
  },
  {
   "cell_type": "code",
   "execution_count": 22,
   "metadata": {},
   "outputs": [
    {
     "name": "stderr",
     "output_type": "stream",
     "text": [
      "D:\\Programms\\Anaconda3\\lib\\site-packages\\IPython\\core\\interactiveshell.py:3296: UserWarning: To output multiple subplots, the figure containing the passed axes is being cleared\n",
      "  exec(code_obj, self.user_global_ns, self.user_ns)\n"
     ]
    },
    {
     "data": {
      "text/plain": [
       "array([[<matplotlib.axes._subplots.AxesSubplot object at 0x000001AF2100A898>,\n",
       "        <matplotlib.axes._subplots.AxesSubplot object at 0x000001AF2109CE10>,\n",
       "        <matplotlib.axes._subplots.AxesSubplot object at 0x000001AF210CC3C8>],\n",
       "       [<matplotlib.axes._subplots.AxesSubplot object at 0x000001AF210F4940>,\n",
       "        <matplotlib.axes._subplots.AxesSubplot object at 0x000001AF2111DEB8>,\n",
       "        <matplotlib.axes._subplots.AxesSubplot object at 0x000001AF215EF470>],\n",
       "       [<matplotlib.axes._subplots.AxesSubplot object at 0x000001AF21618208>,\n",
       "        <matplotlib.axes._subplots.AxesSubplot object at 0x000001AF2163E7B8>,\n",
       "        <matplotlib.axes._subplots.AxesSubplot object at 0x000001AF2163E7F0>]],\n",
       "      dtype=object)"
      ]
     },
     "execution_count": 22,
     "metadata": {},
     "output_type": "execute_result"
    },
    {
     "data": {
      "image/png": "[encoded data removed]",
      "text/plain": [
       "<Figure size 1080x1440 with 9 Axes>"
      ]
     },
     "metadata": {
      "needs_background": "light"
     },
     "output_type": "display_data"
    }
   ],
   "source": [
    "fig = plt.figure(figsize =(15,20))\n",
    "ax = fig.gca()\n",
    "data[categorical_columns+binary_columns+num_categorical_columns].hist(ax = ax)"
   ]
  },
  {
   "cell_type": "code",
   "execution_count": 23,
   "metadata": {},
   "outputs": [
    {
     "data": {
      "text/plain": [
       "7"
      ]
     },
     "execution_count": 23,
     "metadata": {},
     "output_type": "execute_result"
    }
   ],
   "source": [
    "sum(data[data['POLICY_COURT_SIGN']==1]['POLICY_IS_RENEWED'])"
   ]
  },
  {
   "cell_type": "code",
   "execution_count": 24,
   "metadata": {},
   "outputs": [
    {
     "data": {
      "text/plain": [
       "284"
      ]
     },
     "execution_count": 24,
     "metadata": {},
     "output_type": "execute_result"
    }
   ],
   "source": [
    "sum(data[data['POLICY_HAS_COMPLAINTS']==1]['POLICY_IS_RENEWED'])"
   ]
  },
  {
   "cell_type": "markdown",
   "metadata": {},
   "source": [
    "#### не подтвердилось что данные не коррелируют и наблюдается сильный перекос, поэтому сильное влияние на результат не будет"
   ]
  },
  {
   "cell_type": "code",
   "execution_count": 25,
   "metadata": {},
   "outputs": [],
   "source": [
    "#удаляем столбцы\n",
    "for i in ['POLICY_HAS_COMPLAINTS','POLICY_COURT_SIGN']:\n",
    "    binary_columns.remove(i)"
   ]
  },
  {
   "cell_type": "markdown",
   "metadata": {},
   "source": [
    "## 1.5 Подготовка данных для моделирования"
   ]
  },
  {
   "cell_type": "code",
   "execution_count": 26,
   "metadata": {},
   "outputs": [
    {
     "name": "stderr",
     "output_type": "stream",
     "text": [
      "D:\\Programms\\Anaconda3\\lib\\site-packages\\sklearn\\preprocessing\\_encoders.py:371: FutureWarning: The handling of integer data will change in version 0.22. Currently, the categories are determined based on the range [0, max(values)], while in the future they will be determined based on the unique values.\n",
      "If you want the future behaviour and silence this warning, you can specify \"categories='auto'\".\n",
      "In case you used a LabelEncoder before this OneHotEncoder to convert the categories to integers, then you can now use the OneHotEncoder directly.\n",
      "  warnings.warn(msg, FutureWarning)\n"
     ]
    }
   ],
   "source": [
    "from sklearn.preprocessing import StandardScaler, LabelEncoder, OneHotEncoder\n",
    "#числовые\n",
    "std_sc = StandardScaler()\n",
    "data[numerical_columns] = data[numerical_columns].astype(float)\n",
    "data[numerical_columns] = std_sc.fit_transform(data[numerical_columns])\n",
    "#категор\n",
    "label_encoder_dict = {}\n",
    "for i in categorical_columns+binary_columns:\n",
    "    label_encoder_dict[i] = LabelEncoder()\n",
    "    data[i] = label_encoder_dict[i].fit_transform(data[i])\n",
    "#категор\n",
    "oh_en = OneHotEncoder(sparse = False)\n",
    "oh_clms = oh_en.fit_transform(data[categorical_columns+num_categorical_columns])"
   ]
  },
  {
   "cell_type": "markdown",
   "metadata": {},
   "source": [
    "## 1.5 Разделение данных на тренеровочную и тестовую части"
   ]
  },
  {
   "cell_type": "code",
   "execution_count": 27,
   "metadata": {},
   "outputs": [],
   "source": [
    "train_index = data[data['DATA_TYPE']=='TRAIN'].index\n",
    "test_index = data[data['DATA_TYPE']=='TEST '].index"
   ]
  },
  {
   "cell_type": "markdown",
   "metadata": {},
   "source": [
    "Для удобства отдельно рассмотрим столбцы, соответствующие входным признакам (это будет матрица X), а отдельно – выделенный признак (вектор Y):"
   ]
  },
  {
   "cell_type": "code",
   "execution_count": 28,
   "metadata": {},
   "outputs": [],
   "source": [
    "X_train = np.concatenate([data.loc[train_index, numerical_columns+binary_columns],\n",
    "                oh_clms[train_index]], axis = 1)\n",
    "X_test = np.concatenate([data.loc[test_index, numerical_columns+binary_columns],\n",
    "                oh_clms[test_index]], axis = 1)\n",
    "Y_train = data['POLICY_IS_RENEWED'][train_index]\n",
    "Y_test = data['POLICY_IS_RENEWED'][test_index]"
   ]
  },
  {
   "cell_type": "code",
   "execution_count": 31,
   "metadata": {},
   "outputs": [],
   "source": [
    "from sklearn.model_selection import train_test_split\n",
    "x_train_set, x_test_set, y_train_set, y_test_set = train_test_split(X_train, Y_train, test_size = 0.3, random_state = 11)"
   ]
  },
  {
   "cell_type": "markdown",
   "metadata": {},
   "source": [
    "# 2. Прогнозирование\n",
    "---"
   ]
  },
  {
   "cell_type": "markdown",
   "metadata": {},
   "source": [
    "Для начала исследуем распределение классов в тренировочной выборке на наличие перекоса данных."
   ]
  },
  {
   "cell_type": "code",
   "execution_count": 33,
   "metadata": {},
   "outputs": [
    {
     "name": "stdout",
     "output_type": "stream",
     "text": [
      "Разделение классов в тренеровочной выборке:  0.6249563992920537 0.3750436007079463\n"
     ]
    },
    {
     "data": {
      "image/png": "[encoded data removed]",
      "text/plain": [
       "<Figure size 432x288 with 1 Axes>"
      ]
     },
     "metadata": {
      "needs_background": "light"
     },
     "output_type": "display_data"
    }
   ],
   "source": [
    "data['POLICY_IS_RENEWED'][train_index].hist()\n",
    "c = len(train_index)\n",
    "s = sum(data['POLICY_IS_RENEWED'][train_index])\n",
    "print('Разделение классов в тренеровочной выборке: ', s/c, 1-s/c)"
   ]
  },
  {
   "cell_type": "markdown",
   "metadata": {},
   "source": [
    "Видно из гистограммы, что есть перекос, поэтому для всех моделей выберем метрику качества  F1, потому что она учитывет перекос данных."
   ]
  },
  {
   "cell_type": "markdown",
   "metadata": {},
   "source": [
    "## 2.1 Логистическая регрессия"
   ]
  },
  {
   "cell_type": "code",
   "execution_count": 21,
   "metadata": {},
   "outputs": [],
   "source": [
    "from sklearn.linear_model import LogisticRegression\n",
    "from sklearn.model_selection import GridSearchCV, StratifiedKFold\n",
    "from sklearn.metrics import f1_score, make_scorer, accuracy_score"
   ]
  },
  {
   "cell_type": "code",
   "execution_count": 40,
   "metadata": {},
   "outputs": [],
   "source": [
    "grid={\n",
    "    \"C\":[0.003, 0.001, 0.01], \n",
    "    \"penalty\":[\"l1\",\"l2\"]}\n",
    "f1_scorer = make_scorer(f1_score)"
   ]
  },
  {
   "cell_type": "code",
   "execution_count": 46,
   "metadata": {},
   "outputs": [
    {
     "name": "stdout",
     "output_type": "stream",
     "text": [
      "Fitting 5 folds for each of 6 candidates, totalling 30 fits\n",
      "[Parallel(n_jobs=2)]: Using backend LokyBackend with 2 concurrent workers.\n",
      "Memmapping (shape=(54184, 2274), dtype=float64) to new file C:\\Users\\ILYA\\AppData\\Local\\Temp\\joblib_memmapping_folder_14064_5184273849\\14064-2681140021176-a22a9bb2234240859bdbbcfb355eba08.pkl\n",
      "Pickling array (shape=(54184,), dtype=int64).\n",
      "Pickling array (shape=(54184,), dtype=int64).\n",
      "Pickling array (shape=(54184,), dtype=int64).\n",
      "Pickling array (shape=(43347,), dtype=int32).\n",
      "Pickling array (shape=(10837,), dtype=int32).\n",
      "Memmapping (shape=(54184, 2274), dtype=float64) to old file C:\\Users\\ILYA\\AppData\\Local\\Temp\\joblib_memmapping_folder_14064_5184273849\\14064-2681140021176-a22a9bb2234240859bdbbcfb355eba08.pkl\n",
      "Pickling array (shape=(54184,), dtype=int64).\n",
      "Pickling array (shape=(54184,), dtype=int64).\n",
      "Pickling array (shape=(54184,), dtype=int64).\n",
      "Pickling array (shape=(43347,), dtype=int32).\n",
      "Pickling array (shape=(10837,), dtype=int32).\n",
      "Memmapping (shape=(54184, 2274), dtype=float64) to old file C:\\Users\\ILYA\\AppData\\Local\\Temp\\joblib_memmapping_folder_14064_5184273849\\14064-2681140021176-a22a9bb2234240859bdbbcfb355eba08.pkl\n",
      "Pickling array (shape=(54184,), dtype=int64).\n",
      "Pickling array (shape=(54184,), dtype=int64).\n",
      "Pickling array (shape=(54184,), dtype=int64).\n",
      "Pickling array (shape=(43347,), dtype=int32).\n",
      "Pickling array (shape=(10837,), dtype=int32).\n",
      "[Parallel(n_jobs=2)]: Done   1 tasks      | elapsed:   15.6s\n",
      "[Parallel(n_jobs=2)]: Done   2 tasks      | elapsed:   15.6s\n",
      "Memmapping (shape=(54184, 2274), dtype=float64) to old file C:\\Users\\ILYA\\AppData\\Local\\Temp\\joblib_memmapping_folder_14064_5184273849\\14064-2681140021176-a22a9bb2234240859bdbbcfb355eba08.pkl\n",
      "Pickling array (shape=(54184,), dtype=int64).\n",
      "Pickling array (shape=(54184,), dtype=int64).\n",
      "Pickling array (shape=(54184,), dtype=int64).\n",
      "Pickling array (shape=(43347,), dtype=int32).\n",
      "Pickling array (shape=(10837,), dtype=int32).\n",
      "Memmapping (shape=(54184, 2274), dtype=float64) to old file C:\\Users\\ILYA\\AppData\\Local\\Temp\\joblib_memmapping_folder_14064_5184273849\\14064-2681140021176-a22a9bb2234240859bdbbcfb355eba08.pkl\n",
      "Pickling array (shape=(54184,), dtype=int64).\n",
      "Pickling array (shape=(54184,), dtype=int64).\n",
      "Pickling array (shape=(54184,), dtype=int64).\n",
      "Pickling array (shape=(43348,), dtype=int32).\n",
      "Pickling array (shape=(10836,), dtype=int32).\n",
      "[Parallel(n_jobs=2)]: Done   3 tasks      | elapsed:   20.1s\n",
      "[Parallel(n_jobs=2)]: Done   4 tasks      | elapsed:   20.1s\n",
      "Memmapping (shape=(54184, 2274), dtype=float64) to old file C:\\Users\\ILYA\\AppData\\Local\\Temp\\joblib_memmapping_folder_14064_5184273849\\14064-2681140021176-a22a9bb2234240859bdbbcfb355eba08.pkl\n",
      "Pickling array (shape=(54184,), dtype=int64).\n",
      "Pickling array (shape=(54184,), dtype=int64).\n",
      "Pickling array (shape=(54184,), dtype=int64).\n",
      "Pickling array (shape=(43347,), dtype=int32).\n",
      "Pickling array (shape=(10837,), dtype=int32).\n",
      "Memmapping (shape=(54184, 2274), dtype=float64) to old file C:\\Users\\ILYA\\AppData\\Local\\Temp\\joblib_memmapping_folder_14064_5184273849\\14064-2681140021176-a22a9bb2234240859bdbbcfb355eba08.pkl\n",
      "Pickling array (shape=(54184,), dtype=int64).\n",
      "Pickling array (shape=(54184,), dtype=int64).\n",
      "Pickling array (shape=(54184,), dtype=int64).\n",
      "Pickling array (shape=(43347,), dtype=int32).\n",
      "Pickling array (shape=(10837,), dtype=int32).\n",
      "[Parallel(n_jobs=2)]: Done   5 tasks      | elapsed:   23.7s\n",
      "Memmapping (shape=(54184, 2274), dtype=float64) to old file C:\\Users\\ILYA\\AppData\\Local\\Temp\\joblib_memmapping_folder_14064_5184273849\\14064-2681140021176-a22a9bb2234240859bdbbcfb355eba08.pkl\n",
      "Pickling array (shape=(54184,), dtype=int64).\n",
      "Pickling array (shape=(54184,), dtype=int64).\n",
      "Pickling array (shape=(54184,), dtype=int64).\n",
      "Pickling array (shape=(43347,), dtype=int32).\n",
      "Pickling array (shape=(10837,), dtype=int32).\n",
      "[Parallel(n_jobs=2)]: Done   6 tasks      | elapsed:   23.9s\n",
      "Memmapping (shape=(54184, 2274), dtype=float64) to old file C:\\Users\\ILYA\\AppData\\Local\\Temp\\joblib_memmapping_folder_14064_5184273849\\14064-2681140021176-a22a9bb2234240859bdbbcfb355eba08.pkl\n",
      "Pickling array (shape=(54184,), dtype=int64).\n",
      "Pickling array (shape=(54184,), dtype=int64).\n",
      "Pickling array (shape=(54184,), dtype=int64).\n",
      "Pickling array (shape=(43347,), dtype=int32).\n",
      "Pickling array (shape=(10837,), dtype=int32).\n",
      "[Parallel(n_jobs=2)]: Done   7 tasks      | elapsed:   27.4s\n",
      "[Parallel(n_jobs=2)]: Done   8 tasks      | elapsed:   27.4s\n",
      "Memmapping (shape=(54184, 2274), dtype=float64) to old file C:\\Users\\ILYA\\AppData\\Local\\Temp\\joblib_memmapping_folder_14064_5184273849\\14064-2681140021176-a22a9bb2234240859bdbbcfb355eba08.pkl\n",
      "Pickling array (shape=(54184,), dtype=int64).\n",
      "Pickling array (shape=(54184,), dtype=int64).\n",
      "Pickling array (shape=(54184,), dtype=int64).\n",
      "Pickling array (shape=(43348,), dtype=int32).\n",
      "Pickling array (shape=(10836,), dtype=int32).\n",
      "Memmapping (shape=(54184, 2274), dtype=float64) to old file C:\\Users\\ILYA\\AppData\\Local\\Temp\\joblib_memmapping_folder_14064_5184273849\\14064-2681140021176-a22a9bb2234240859bdbbcfb355eba08.pkl\n",
      "Pickling array (shape=(54184,), dtype=int64).\n",
      "Pickling array (shape=(54184,), dtype=int64).\n",
      "Pickling array (shape=(54184,), dtype=int64).\n",
      "Pickling array (shape=(43347,), dtype=int32).\n",
      "Pickling array (shape=(10837,), dtype=int32).\n",
      "[Parallel(n_jobs=2)]: Done   9 tasks      | elapsed:   31.8s\n",
      "[Parallel(n_jobs=2)]: Done  10 tasks      | elapsed:   31.9s\n",
      "Memmapping (shape=(54184, 2274), dtype=float64) to old file C:\\Users\\ILYA\\AppData\\Local\\Temp\\joblib_memmapping_folder_14064_5184273849\\14064-2681140021176-a22a9bb2234240859bdbbcfb355eba08.pkl\n",
      "Pickling array (shape=(54184,), dtype=int64).\n",
      "Pickling array (shape=(54184,), dtype=int64).\n",
      "Pickling array (shape=(54184,), dtype=int64).\n",
      "Pickling array (shape=(43347,), dtype=int32).\n",
      "Pickling array (shape=(10837,), dtype=int32).\n",
      "Memmapping (shape=(54184, 2274), dtype=float64) to old file C:\\Users\\ILYA\\AppData\\Local\\Temp\\joblib_memmapping_folder_14064_5184273849\\14064-2681140021176-a22a9bb2234240859bdbbcfb355eba08.pkl\n",
      "Pickling array (shape=(54184,), dtype=int64).\n",
      "Pickling array (shape=(54184,), dtype=int64).\n",
      "Pickling array (shape=(54184,), dtype=int64).\n",
      "Pickling array (shape=(43347,), dtype=int32).\n",
      "Pickling array (shape=(10837,), dtype=int32).\n",
      "[Parallel(n_jobs=2)]: Done  11 tasks      | elapsed:   35.1s\n",
      "Memmapping (shape=(54184, 2274), dtype=float64) to old file C:\\Users\\ILYA\\AppData\\Local\\Temp\\joblib_memmapping_folder_14064_5184273849\\14064-2681140021176-a22a9bb2234240859bdbbcfb355eba08.pkl\n",
      "Pickling array (shape=(54184,), dtype=int64).\n",
      "Pickling array (shape=(54184,), dtype=int64).\n",
      "Pickling array (shape=(54184,), dtype=int64).\n",
      "Pickling array (shape=(43347,), dtype=int32).\n",
      "Pickling array (shape=(10837,), dtype=int32).\n",
      "[Parallel(n_jobs=2)]: Done  12 tasks      | elapsed:   35.3s\n",
      "Memmapping (shape=(54184, 2274), dtype=float64) to old file C:\\Users\\ILYA\\AppData\\Local\\Temp\\joblib_memmapping_folder_14064_5184273849\\14064-2681140021176-a22a9bb2234240859bdbbcfb355eba08.pkl\n",
      "Pickling array (shape=(54184,), dtype=int64).\n",
      "Pickling array (shape=(54184,), dtype=int64).\n",
      "Pickling array (shape=(54184,), dtype=int64).\n",
      "Pickling array (shape=(43348,), dtype=int32).\n",
      "Pickling array (shape=(10836,), dtype=int32).\n",
      "[Parallel(n_jobs=2)]: Done  13 tasks      | elapsed:   38.9s\n",
      "Memmapping (shape=(54184, 2274), dtype=float64) to old file C:\\Users\\ILYA\\AppData\\Local\\Temp\\joblib_memmapping_folder_14064_5184273849\\14064-2681140021176-a22a9bb2234240859bdbbcfb355eba08.pkl\n",
      "Pickling array (shape=(54184,), dtype=int64).\n",
      "Pickling array (shape=(54184,), dtype=int64).\n",
      "Pickling array (shape=(54184,), dtype=int64).\n",
      "Pickling array (shape=(43347,), dtype=int32).\n",
      "Pickling array (shape=(10837,), dtype=int32).\n",
      "[Parallel(n_jobs=2)]: Done  14 tasks      | elapsed:   39.1s\n",
      "Memmapping (shape=(54184, 2274), dtype=float64) to old file C:\\Users\\ILYA\\AppData\\Local\\Temp\\joblib_memmapping_folder_14064_5184273849\\14064-2681140021176-a22a9bb2234240859bdbbcfb355eba08.pkl\n",
      "Pickling array (shape=(54184,), dtype=int64).\n",
      "Pickling array (shape=(54184,), dtype=int64).\n",
      "Pickling array (shape=(54184,), dtype=int64).\n",
      "Pickling array (shape=(43347,), dtype=int32).\n",
      "Pickling array (shape=(10837,), dtype=int32).\n",
      "[Parallel(n_jobs=2)]: Done  15 tasks      | elapsed:   42.2s\n",
      "Memmapping (shape=(54184, 2274), dtype=float64) to old file C:\\Users\\ILYA\\AppData\\Local\\Temp\\joblib_memmapping_folder_14064_5184273849\\14064-2681140021176-a22a9bb2234240859bdbbcfb355eba08.pkl\n",
      "Pickling array (shape=(54184,), dtype=int64).\n",
      "Pickling array (shape=(54184,), dtype=int64).\n",
      "Pickling array (shape=(54184,), dtype=int64).\n",
      "Pickling array (shape=(43347,), dtype=int32).\n",
      "Pickling array (shape=(10837,), dtype=int32).\n"
     ]
    },
    {
     "name": "stdout",
     "output_type": "stream",
     "text": [
      "[Parallel(n_jobs=2)]: Done  16 tasks      | elapsed:   42.5s\n",
      "Memmapping (shape=(54184, 2274), dtype=float64) to old file C:\\Users\\ILYA\\AppData\\Local\\Temp\\joblib_memmapping_folder_14064_5184273849\\14064-2681140021176-a22a9bb2234240859bdbbcfb355eba08.pkl\n",
      "Pickling array (shape=(54184,), dtype=int64).\n",
      "Pickling array (shape=(54184,), dtype=int64).\n",
      "Pickling array (shape=(54184,), dtype=int64).\n",
      "Pickling array (shape=(43347,), dtype=int32).\n",
      "Pickling array (shape=(10837,), dtype=int32).\n",
      "[Parallel(n_jobs=2)]: Done  17 tasks      | elapsed:   45.8s\n",
      "Memmapping (shape=(54184, 2274), dtype=float64) to old file C:\\Users\\ILYA\\AppData\\Local\\Temp\\joblib_memmapping_folder_14064_5184273849\\14064-2681140021176-a22a9bb2234240859bdbbcfb355eba08.pkl\n",
      "Pickling array (shape=(54184,), dtype=int64).\n",
      "Pickling array (shape=(54184,), dtype=int64).\n",
      "Pickling array (shape=(54184,), dtype=int64).\n",
      "Pickling array (shape=(43348,), dtype=int32).\n",
      "Pickling array (shape=(10836,), dtype=int32).\n",
      "[Parallel(n_jobs=2)]: Done  18 tasks      | elapsed:   46.1s\n",
      "Memmapping (shape=(54184, 2274), dtype=float64) to old file C:\\Users\\ILYA\\AppData\\Local\\Temp\\joblib_memmapping_folder_14064_5184273849\\14064-2681140021176-a22a9bb2234240859bdbbcfb355eba08.pkl\n",
      "Pickling array (shape=(54184,), dtype=int64).\n",
      "Pickling array (shape=(54184,), dtype=int64).\n",
      "Pickling array (shape=(54184,), dtype=int64).\n",
      "Pickling array (shape=(43347,), dtype=int32).\n",
      "Pickling array (shape=(10837,), dtype=int32).\n",
      "[Parallel(n_jobs=2)]: Done  19 tasks      | elapsed:   49.2s\n",
      "Memmapping (shape=(54184, 2274), dtype=float64) to old file C:\\Users\\ILYA\\AppData\\Local\\Temp\\joblib_memmapping_folder_14064_5184273849\\14064-2681140021176-a22a9bb2234240859bdbbcfb355eba08.pkl\n",
      "Pickling array (shape=(54184,), dtype=int64).\n",
      "Pickling array (shape=(54184,), dtype=int64).\n",
      "Pickling array (shape=(54184,), dtype=int64).\n",
      "Pickling array (shape=(43347,), dtype=int32).\n",
      "Pickling array (shape=(10837,), dtype=int32).\n",
      "[Parallel(n_jobs=2)]: Done  20 tasks      | elapsed:   49.5s\n",
      "Memmapping (shape=(54184, 2274), dtype=float64) to old file C:\\Users\\ILYA\\AppData\\Local\\Temp\\joblib_memmapping_folder_14064_5184273849\\14064-2681140021176-a22a9bb2234240859bdbbcfb355eba08.pkl\n",
      "Pickling array (shape=(54184,), dtype=int64).\n",
      "Pickling array (shape=(54184,), dtype=int64).\n",
      "Pickling array (shape=(54184,), dtype=int64).\n",
      "Pickling array (shape=(43347,), dtype=int32).\n",
      "Pickling array (shape=(10837,), dtype=int32).\n",
      "[Parallel(n_jobs=2)]: Done  21 tasks      | elapsed:   53.5s\n",
      "Memmapping (shape=(54184, 2274), dtype=float64) to old file C:\\Users\\ILYA\\AppData\\Local\\Temp\\joblib_memmapping_folder_14064_5184273849\\14064-2681140021176-a22a9bb2234240859bdbbcfb355eba08.pkl\n",
      "Pickling array (shape=(54184,), dtype=int64).\n",
      "Pickling array (shape=(54184,), dtype=int64).\n",
      "Pickling array (shape=(54184,), dtype=int64).\n",
      "Pickling array (shape=(43347,), dtype=int32).\n",
      "Pickling array (shape=(10837,), dtype=int32).\n",
      "[Parallel(n_jobs=2)]: Done  22 tasks      | elapsed:   53.6s\n",
      "Memmapping (shape=(54184, 2274), dtype=float64) to old file C:\\Users\\ILYA\\AppData\\Local\\Temp\\joblib_memmapping_folder_14064_5184273849\\14064-2681140021176-a22a9bb2234240859bdbbcfb355eba08.pkl\n",
      "Pickling array (shape=(54184,), dtype=int64).\n",
      "Pickling array (shape=(54184,), dtype=int64).\n",
      "Pickling array (shape=(54184,), dtype=int64).\n",
      "Pickling array (shape=(43348,), dtype=int32).\n",
      "Pickling array (shape=(10836,), dtype=int32).\n",
      "[Parallel(n_jobs=2)]: Done  23 tasks      | elapsed:   57.4s\n",
      "Memmapping (shape=(54184, 2274), dtype=float64) to old file C:\\Users\\ILYA\\AppData\\Local\\Temp\\joblib_memmapping_folder_14064_5184273849\\14064-2681140021176-a22a9bb2234240859bdbbcfb355eba08.pkl\n",
      "Pickling array (shape=(54184,), dtype=int64).\n",
      "Pickling array (shape=(54184,), dtype=int64).\n",
      "Pickling array (shape=(54184,), dtype=int64).\n",
      "Pickling array (shape=(43347,), dtype=int32).\n",
      "Pickling array (shape=(10837,), dtype=int32).\n",
      "[Parallel(n_jobs=2)]: Done  24 tasks      | elapsed:   58.2s\n",
      "Memmapping (shape=(54184, 2274), dtype=float64) to old file C:\\Users\\ILYA\\AppData\\Local\\Temp\\joblib_memmapping_folder_14064_5184273849\\14064-2681140021176-a22a9bb2234240859bdbbcfb355eba08.pkl\n",
      "Pickling array (shape=(54184,), dtype=int64).\n",
      "Pickling array (shape=(54184,), dtype=int64).\n",
      "Pickling array (shape=(54184,), dtype=int64).\n",
      "Pickling array (shape=(43347,), dtype=int32).\n",
      "Pickling array (shape=(10837,), dtype=int32).\n",
      "[Parallel(n_jobs=2)]: Done  25 tasks      | elapsed:  1.0min\n",
      "Memmapping (shape=(54184, 2274), dtype=float64) to old file C:\\Users\\ILYA\\AppData\\Local\\Temp\\joblib_memmapping_folder_14064_5184273849\\14064-2681140021176-a22a9bb2234240859bdbbcfb355eba08.pkl\n",
      "Pickling array (shape=(54184,), dtype=int64).\n",
      "Pickling array (shape=(54184,), dtype=int64).\n",
      "Pickling array (shape=(54184,), dtype=int64).\n",
      "Pickling array (shape=(43347,), dtype=int32).\n",
      "Pickling array (shape=(10837,), dtype=int32).\n",
      "[Parallel(n_jobs=2)]: Done  26 tasks      | elapsed:  1.0min\n",
      "Memmapping (shape=(54184, 2274), dtype=float64) to old file C:\\Users\\ILYA\\AppData\\Local\\Temp\\joblib_memmapping_folder_14064_5184273849\\14064-2681140021176-a22a9bb2234240859bdbbcfb355eba08.pkl\n",
      "Pickling array (shape=(54184,), dtype=int64).\n",
      "Pickling array (shape=(54184,), dtype=int64).\n",
      "Pickling array (shape=(54184,), dtype=int64).\n",
      "Pickling array (shape=(43347,), dtype=int32).\n",
      "Pickling array (shape=(10837,), dtype=int32).\n",
      "[Parallel(n_jobs=2)]: Done  27 tasks      | elapsed:  1.1min\n",
      "Memmapping (shape=(54184, 2274), dtype=float64) to old file C:\\Users\\ILYA\\AppData\\Local\\Temp\\joblib_memmapping_folder_14064_5184273849\\14064-2681140021176-a22a9bb2234240859bdbbcfb355eba08.pkl\n",
      "Pickling array (shape=(54184,), dtype=int64).\n",
      "Pickling array (shape=(54184,), dtype=int64).\n",
      "Pickling array (shape=(54184,), dtype=int64).\n",
      "Pickling array (shape=(43348,), dtype=int32).\n",
      "Pickling array (shape=(10836,), dtype=int32).\n",
      "[Parallel(n_jobs=2)]: Done  28 out of  30 | elapsed:  1.1min remaining:    4.6s\n",
      "[Parallel(n_jobs=2)]: Done  30 out of  30 | elapsed:  1.2min remaining:    0.0s\n",
      "[Parallel(n_jobs=2)]: Done  30 out of  30 | elapsed:  1.2min finished\n"
     ]
    },
    {
     "name": "stderr",
     "output_type": "stream",
     "text": [
      "D:\\Programms\\Anaconda3\\lib\\site-packages\\sklearn\\linear_model\\logistic.py:433: FutureWarning: Default solver will be changed to 'lbfgs' in 0.22. Specify a solver to silence this warning.\n",
      "  FutureWarning)\n"
     ]
    },
    {
     "data": {
      "text/plain": [
       "GridSearchCV(cv=StratifiedKFold(n_splits=5, random_state=1777, shuffle=True),\n",
       "       error_score='raise-deprecating',\n",
       "       estimator=LogisticRegression(C=1.0, class_weight=None, dual=False, fit_intercept=True,\n",
       "          intercept_scaling=1, max_iter=100, multi_class='warn',\n",
       "          n_jobs=None, penalty='l2', random_state=1777, solver='warn',\n",
       "          tol=0.0001, verbose=0, warm_start=False),\n",
       "       fit_params=None, iid='warn', n_jobs=2,\n",
       "       param_grid={'C': [0.0001, 0.001, 0.01], 'penalty': ['l1', 'l2']},\n",
       "       pre_dispatch='2*n_jobs', refit=True, return_train_score='warn',\n",
       "       scoring=make_scorer(f1_score), verbose=1000)"
      ]
     },
     "execution_count": 46,
     "metadata": {},
     "output_type": "execute_result"
    }
   ],
   "source": [
    "lg_clf = LogisticRegression(random_state=1777)\n",
    "skf_lg = StratifiedKFold(n_splits=5, shuffle=True, random_state=1777)\n",
    "logreg_cv=GridSearchCV(lg_clf,grid, n_jobs=2, cv=skf_lg, verbose=1000, scoring=f1_scorer)\n",
    "logreg_cv.fit(x_train_set,y_train_set)"
   ]
  },
  {
   "cell_type": "code",
   "execution_count": 47,
   "metadata": {},
   "outputs": [
    {
     "data": {
      "text/plain": [
       "{'C': 0.001, 'penalty': 'l2'}"
      ]
     },
     "execution_count": 47,
     "metadata": {},
     "output_type": "execute_result"
    }
   ],
   "source": [
    "logreg_cv.best_params_"
   ]
  },
  {
   "cell_type": "code",
   "execution_count": null,
   "metadata": {},
   "outputs": [],
   "source": [
    "lg_clf = LogisticRegression(random_state=1777, C=0.001, penalty='l2')\n",
    "lg_clf.fit(x_train_set,y_train_set)"
   ]
  },
  {
   "cell_type": "code",
   "execution_count": 51,
   "metadata": {},
   "outputs": [
    {
     "name": "stdout",
     "output_type": "stream",
     "text": [
      "0.6771371622619223\n"
     ]
    }
   ],
   "source": [
    "y_train_predict = lg_clf.predict(x_train_set)\n",
    "y_train_predict_proba = lg_clf.predict_proba(x_train_set)[:,1] #все метки класса 1\n",
    "y_test_predict = rfc.predict(x_test_set)\n",
    "y_test_predict_proba = rfc.predict_proba(x_test_set)[:,1] #все метки класса 1\n",
    "print('f1 мера на обучающей выборке: ', f1_score(y_train_set, y_train_predict.round()))\n",
    "print('f1 мера на тестовой выборке: ', f1_score(y_test_set, y_test_predict.round()) )"
   ]
  },
  {
   "cell_type": "markdown",
   "metadata": {},
   "source": [
    "## 2.2 Случайный лес"
   ]
  },
  {
   "cell_type": "code",
   "execution_count": 38,
   "metadata": {},
   "outputs": [],
   "source": [
    "from sklearn.ensemble import RandomForestClassifier\n",
    "from sklearn.model_selection import GridSearchCV, StratifiedKFold, train_test_split\n",
    "from sklearn.metrics import f1_score, make_scorer, accuracy_score"
   ]
  },
  {
   "cell_type": "code",
   "execution_count": 39,
   "metadata": {},
   "outputs": [],
   "source": [
    "param_grid = { \n",
    "    'n_estimators': [50, 100, 200],\n",
    "    'max_depth' : [12, 14, 16],\n",
    "    'min_samples_split' : [2, 4, 8],\n",
    "    'min_samples_leaf' : [1, 3, 5],\n",
    "    'max_features': ['auto', 'sqrt']\n",
    "}\n",
    "f1_scorer = make_scorer(f1_score)"
   ]
  },
  {
   "cell_type": "code",
   "execution_count": 67,
   "metadata": {},
   "outputs": [],
   "source": [
    "#для случайного леса\n",
    "X_train_tree = data.loc[train_index, numerical_columns+categorical_columns+binary_columns+num_categorical_columns]\n",
    "X_test_tree = data.loc[test_index, numerical_columns+categorical_columns+binary_columns+num_categorical_columns]\n",
    "test_size = 0.3\n",
    "x_train_tree_set, x_test_tree_set, y_train_set, y_test_set = train_test_split(X_train_tree, \n",
    "                                                                              Y_train, \n",
    "                                                                              test_size = test_size, \n",
    "                                                                              random_state = 11)"
   ]
  },
  {
   "cell_type": "code",
   "execution_count": null,
   "metadata": {},
   "outputs": [],
   "source": [
    "skf = StratifiedKFold(n_splits=5, shuffle=True, random_state=42)\n",
    "rfc = RandomForestClassifier(oob_score = True) \n",
    "\n",
    "CV_rfc = GridSearchCV(estimator=rfc,\n",
    "                      param_grid=param_grid, \n",
    "                      cv=skf, n\n",
    "                      _jobs=8, \n",
    "                      verbose=1000,\n",
    "                     scoring=f1_scorer)\n",
    "CV_rfc.fit(x_train_tree_set,y_train_set)"
   ]
  },
  {
   "cell_type": "code",
   "execution_count": null,
   "metadata": {},
   "outputs": [],
   "source": [
    "print(CV_rfc.best_params_)"
   ]
  },
  {
   "cell_type": "code",
   "execution_count": 35,
   "metadata": {},
   "outputs": [
    {
     "data": {
      "text/plain": [
       "RandomForestClassifier(bootstrap=True, class_weight=None, criterion='gini',\n",
       "            max_depth=16, max_features='sqrt', max_leaf_nodes=None,\n",
       "            min_impurity_decrease=0.0, min_impurity_split=None,\n",
       "            min_samples_leaf=3, min_samples_split=2,\n",
       "            min_weight_fraction_leaf=0.0, n_estimators=300, n_jobs=-1,\n",
       "            oob_score=True, random_state=None, verbose=0, warm_start=False)"
      ]
     },
     "execution_count": 35,
     "metadata": {},
     "output_type": "execute_result"
    }
   ],
   "source": [
    "rfc = RandomForestClassifier(max_depth = 16, \n",
    "                             max_features = 'sqrt', \n",
    "                             min_samples_leaf = 3, \n",
    "                             min_samples_split = 2, \n",
    "                             n_estimators = 300, \n",
    "                             oob_score = True, \n",
    "                             n_jobs=-1)\n",
    "rfc.fit(x_train_tree_set,y_train_set)"
   ]
  },
  {
   "cell_type": "code",
   "execution_count": 40,
   "metadata": {},
   "outputs": [
    {
     "name": "stdout",
     "output_type": "stream",
     "text": [
      "f1 мера на обучающей выборке:  0.8822833441899419\n",
      "f1 мера на тестовой выборке:  0.797886874943073\n"
     ]
    }
   ],
   "source": [
    "y_train_predict = rfc.predict(x_train_tree_set)\n",
    "y_train_predict_proba = rfc.predict_proba(x_train_tree_set)[:,1] #все метки класса 1\n",
    "y_test_predict = rfc.predict(x_test_tree_set)\n",
    "y_test_predict_proba = rfc.predict_proba(x_test_tree_set)[:,1] #все метки класса 1\n",
    "print('f1 мера на обучающей выборке: ', f1_score(y_train_set, y_train_predict.round()))\n",
    "print('f1 мера на тестовой выборке: ', f1_score(y_test_set, y_test_predict.round()) )"
   ]
  },
  {
   "cell_type": "markdown",
   "metadata": {},
   "source": [
    "# 3. \"Тюннинг\" модели\n",
    "---"
   ]
  },
  {
   "cell_type": "markdown",
   "metadata": {},
   "source": [
    "## 3.1 Удаление признаков"
   ]
  },
  {
   "cell_type": "code",
   "execution_count": 110,
   "metadata": {},
   "outputs": [
    {
     "name": "stdout",
     "output_type": "stream",
     "text": [
      "0.009813746776707514\t\tINSURER_GENDER\n",
      "0.010011987518656434\t\tVEHICLE_IN_CREDIT\n",
      "0.011460462540273289\t\tPOLICY_BRANCH\n",
      "0.011799545323960419\t\tCLIENT_HAS_DAGO\n",
      "0.014126077742351466\t\tCLIENT_HAS_OSAGO\n",
      "0.014294482376104457\t\tPOLICY_SALES_CHANNEL_GROUP\n",
      "0.022938489956806044\t\tPOLICY_PRV_CLM_N\n",
      "0.023773304102260282\t\tPOLICY_PRV_CLM_GLT_N\n",
      "0.02453198658113654\t\tPOLICY_DEDUCT_VALUE\n",
      "0.025769403065095006\t\tPOLICY_CLM_N\n",
      "0.027034649119223514\t\tCLAIM_AVG_ACC_ST_PRD\n",
      "0.028546045755666848\t\tPOLICY_YEARS_RENEWED_N\n",
      "0.02900767528477271\t\tCLIENT_REGISTRATION_REGION\n",
      "0.031326575709407015\t\tPOLICY_SALES_CHANNEL\n",
      "0.03412716235188638\t\tPOLICY_BEGIN_MONTH\n",
      "0.034498882469112625\t\tPOLICY_END_MONTH\n",
      "0.038432943007724756\t\tVEHICLE_MAKE\n",
      "0.03855280843227776\t\tPOLICY_CLM_GLT_N\n",
      "0.04888401432938474\t\tPOLICY_INTERMEDIARY\n",
      "0.052247001916844026\t\tPOLICY_MIN_DRIVING_EXPERIENCE\n",
      "0.05397037849679511\t\tVEHICLE_ENGINE_POWER\n",
      "0.05609443823725308\t\tVEHICLE_MODEL\n",
      "0.057679057049226934\t\tPOLICY_MIN_AGE\n",
      "0.07522098808596542\t\tVEHICLE_SUM_INSURED\n",
      "0.22585789377110757\t\tPOLICY_PRICE_CHANGE\n"
     ]
    }
   ],
   "source": [
    "print(\"значимых признаков\")\n",
    "for a, b in sorted(zip(rfc.feature_importances_,\n",
    "                       numerical_columns+categorical_columns+binary_columns+num_categorical_columns)):\n",
    "    print(a,b, sep='\\t\\t')"
   ]
  },
  {
   "cell_type": "code",
   "execution_count": 113,
   "metadata": {},
   "outputs": [],
   "source": []
  },
  {
   "cell_type": "code",
   "execution_count": null,
   "metadata": {},
   "outputs": [],
   "source": []
  },
  {
   "cell_type": "code",
   "execution_count": null,
   "metadata": {},
   "outputs": [],
   "source": []
  },
  {
   "cell_type": "markdown",
   "metadata": {},
   "source": [
    "## 3.2 Добавление новых сгенерированных"
   ]
  },
  {
   "cell_type": "code",
   "execution_count": null,
   "metadata": {},
   "outputs": [],
   "source": []
  },
  {
   "cell_type": "code",
   "execution_count": null,
   "metadata": {},
   "outputs": [],
   "source": []
  },
  {
   "cell_type": "markdown",
   "metadata": {},
   "source": [
    "## 3.3 Новое обучение и прогноз"
   ]
  },
  {
   "cell_type": "code",
   "execution_count": null,
   "metadata": {},
   "outputs": [],
   "source": [
    "#для случайного леса\n",
    "X_train_tree = data.loc[train_index, numerical_columns+categorical_columns+binary_columns+num_categorical_columns]\n",
    "X_test_tree = data.loc[test_index, numerical_columns+categorical_columns+binary_columns+num_categorical_columns]\n",
    "test_size = 0.3\n",
    "x_train_tree_set, x_test_tree_set, y_train_set, y_test_set = train_test_split(X_train_tree, \n",
    "                                                                              Y_train, \n",
    "                                                                              test_size = test_size, \n",
    "                                                                              random_state = 11)"
   ]
  },
  {
   "cell_type": "code",
   "execution_count": null,
   "metadata": {},
   "outputs": [],
   "source": [
    "rfc = RandomForestClassifier(max_depth = 16, \n",
    "                             max_features = 'sqrt', \n",
    "                             min_samples_leaf = 3, \n",
    "                             min_samples_split = 2, \n",
    "                             n_estimators = 300, \n",
    "                             oob_score = True, \n",
    "                             n_jobs=-1)\n",
    "rfc.fit(x_train_tree_set,y_train_set)"
   ]
  },
  {
   "cell_type": "code",
   "execution_count": null,
   "metadata": {},
   "outputs": [],
   "source": [
    "y_train_predict = rfc.predict(x_train_tree_set)\n",
    "y_train_predict_proba = rfc.predict_proba(x_train_tree_set)[:,1] #все метки класса 1\n",
    "y_test_predict = rfc.predict(x_test_tree_set)\n",
    "y_test_predict_proba = rfc.predict_proba(x_test_tree_set)[:,1] #все метки класса 1\n",
    "print('f1 мера на обучающей выборке: ', f1_score(y_train_set, y_train_predict.round()))\n",
    "print('f1 мера на тестовой выборке: ', f1_score(y_test_set, y_test_predict.round()) )"
   ]
  },
  {
   "cell_type": "markdown",
   "metadata": {},
   "source": [
    "# 4. Анализ модели и выводы\n",
    "---"
   ]
  },
  {
   "cell_type": "code",
   "execution_count": null,
   "metadata": {},
   "outputs": [],
   "source": []
  },
  {
   "cell_type": "markdown",
   "metadata": {},
   "source": [
    "После вычислений делаем выводы"
   ]
  },
  {
   "cell_type": "code",
   "execution_count": 99,
   "metadata": {},
   "outputs": [
    {
     "data": {
      "image/png": "[encoded data removed]",
      "text/plain": [
       "<Figure size 720x720 with 1 Axes>"
      ]
     },
     "metadata": {
      "needs_background": "light"
     },
     "output_type": "display_data"
    }
   ],
   "source": [
    "features = numerical_columns+categorical_columns+binary_columns+num_categorical_columns\n",
    "importances = rfc.feature_importances_\n",
    "indices = np.argsort(importances)[10:]\n",
    "plt.figure(figsize=(10,10))\n",
    "plt.title('Топ 10 значимых признаков')\n",
    "plt.barh(range(len(indices)), importances[indices], color='b', align='center')\n",
    "plt.yticks(range(len(indices)), [features[i] for i in indices])\n",
    "plt.xlabel('Относительная важность')\n",
    "plt.show()"
   ]
  },
  {
   "cell_type": "markdown",
   "metadata": {},
   "source": [
    "Из диаграммы видим, что наиболее важные признаки это: "
   ]
  },
  {
   "cell_type": "markdown",
   "metadata": {},
   "source": [
    "    -POLICY_PRICE_CHANGE\tКак поменялась премия при пролонгации\n",
    "    sdfsdf\n",
    "    sdfsdf"
   ]
  },
  {
   "cell_type": "code",
   "execution_count": null,
   "metadata": {},
   "outputs": [],
   "source": []
  },
  {
   "cell_type": "code",
   "execution_count": null,
   "metadata": {},
   "outputs": [],
   "source": []
  },
  {
   "cell_type": "markdown",
   "metadata": {},
   "source": [
    "## Сохранение тестовых результатов"
   ]
  },
  {
   "cell_type": "code",
   "execution_count": 68,
   "metadata": {},
   "outputs": [],
   "source": [
    "Y_test_predict = rfc.predict(X_test_tree)\n",
    "Y_test_predict_proba = rfc.predict_proba(X_test_tree)[:,1] #все метки класса 1"
   ]
  },
  {
   "cell_type": "markdown",
   "metadata": {},
   "source": [
    "Прогнозные значения сохраянем в файл"
   ]
  },
  {
   "cell_type": "code",
   "execution_count": 149,
   "metadata": {},
   "outputs": [],
   "source": [
    "rez_table = pd.DataFrame()\n",
    "rez_table['POLICY_ID'] = data['POLICY_ID'][test_index]\n",
    "rez_table['POLICY_IS_RENEWED'] = pd.DataFrame(Y_test_predict)\n",
    "rez_table['POLICY_IS_RENEWED_PROBABILITY'] = pd.DataFrame(Y_test_predict_proba)\n",
    "\n",
    "PATH_TO_DATA_SAVE = 'D:\\Задача 1\\Pavlov_Rezult.csv'\n",
    "rez_table.to_csv(PATH_TO_DATA_SAVE, header=1, sep=',', \n",
    "          quotechar='\"', encoding='utf-8', index=False)"
   ]
  },
  {
   "cell_type": "code",
   "execution_count": 151,
   "metadata": {},
   "outputs": [
    {
     "data": {
      "text/html": [
       "<div>\n",
       "<style scoped>\n",
       "    .dataframe tbody tr th:only-of-type {\n",
       "        vertical-align: middle;\n",
       "    }\n",
       "\n",
       "    .dataframe tbody tr th {\n",
       "        vertical-align: top;\n",
       "    }\n",
       "\n",
       "    .dataframe thead th {\n",
       "        text-align: right;\n",
       "    }\n",
       "</style>\n",
       "<table border=\"1\" class=\"dataframe\">\n",
       "  <thead>\n",
       "    <tr style=\"text-align: right;\">\n",
       "      <th></th>\n",
       "      <th>POLICY_ID</th>\n",
       "      <th>POLICY_IS_RENEWED</th>\n",
       "      <th>POLICY_IS_RENEWED_PROBABILITY</th>\n",
       "    </tr>\n",
       "  </thead>\n",
       "  <tbody>\n",
       "    <tr>\n",
       "      <th>9</th>\n",
       "      <td>10</td>\n",
       "      <td>1.0</td>\n",
       "      <td>0.77</td>\n",
       "    </tr>\n",
       "    <tr>\n",
       "      <th>11</th>\n",
       "      <td>12</td>\n",
       "      <td>1.0</td>\n",
       "      <td>0.68</td>\n",
       "    </tr>\n",
       "    <tr>\n",
       "      <th>12</th>\n",
       "      <td>13</td>\n",
       "      <td>0.0</td>\n",
       "      <td>0.41</td>\n",
       "    </tr>\n",
       "    <tr>\n",
       "      <th>21</th>\n",
       "      <td>22</td>\n",
       "      <td>0.0</td>\n",
       "      <td>0.48</td>\n",
       "    </tr>\n",
       "    <tr>\n",
       "      <th>36</th>\n",
       "      <td>37</td>\n",
       "      <td>0.0</td>\n",
       "      <td>0.47</td>\n",
       "    </tr>\n",
       "  </tbody>\n",
       "</table>\n",
       "</div>"
      ],
      "text/plain": [
       "    POLICY_ID  POLICY_IS_RENEWED  POLICY_IS_RENEWED_PROBABILITY\n",
       "9          10                1.0                           0.77\n",
       "11         12                1.0                           0.68\n",
       "12         13                0.0                           0.41\n",
       "21         22                0.0                           0.48\n",
       "36         37                0.0                           0.47"
      ]
     },
     "execution_count": 151,
     "metadata": {},
     "output_type": "execute_result"
    }
   ],
   "source": [
    "rez_table.head()"
   ]
  },
  {
   "cell_type": "markdown",
   "metadata": {},
   "source": [
    "# 5. Дальнейшие планы\n",
    "---"
   ]
  },
  {
   "cell_type": "markdown",
   "metadata": {},
   "source": [
    "#### 1) применить XGBoost\n",
    "#### 2) обогащение данных\n",
    "#### 3) слияние моделей\n",
    "---"
   ]
  }
 ],
 "metadata": {
  "kernelspec": {
   "display_name": "Python 3",
   "language": "python",
   "name": "python3"
  },
  "language_info": {
   "codemirror_mode": {
    "name": "ipython",
    "version": 3
   },
   "file_extension": ".py",
   "mimetype": "text/x-python",
   "name": "python",
   "nbconvert_exporter": "python",
   "pygments_lexer": "ipython3",
   "version": "3.7.3"
  }
 },
 "nbformat": 4,
 "nbformat_minor": 2
}
