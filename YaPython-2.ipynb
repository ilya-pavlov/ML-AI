{
 "cells": [
  {
   "cell_type": "markdown",
   "metadata": {},
   "source": [
    "Воспользуемся jupyter notebook"
   ]
  },
  {
   "cell_type": "code",
   "execution_count": 1,
   "metadata": {},
   "outputs": [
    {
     "data": {
      "text/html": [
       "<div>\n",
       "<style scoped>\n",
       "    .dataframe tbody tr th:only-of-type {\n",
       "        vertical-align: middle;\n",
       "    }\n",
       "\n",
       "    .dataframe tbody tr th {\n",
       "        vertical-align: top;\n",
       "    }\n",
       "\n",
       "    .dataframe thead th {\n",
       "        text-align: right;\n",
       "    }\n",
       "</style>\n",
       "<table border=\"1\" class=\"dataframe\">\n",
       "  <thead>\n",
       "    <tr style=\"text-align: right;\">\n",
       "      <th></th>\n",
       "      <th>worker</th>\n",
       "      <th>project_id</th>\n",
       "      <th>task_id</th>\n",
       "      <th>resolution_type</th>\n",
       "      <th>start_ts</th>\n",
       "      <th>end_ts</th>\n",
       "    </tr>\n",
       "  </thead>\n",
       "  <tbody>\n",
       "    <tr>\n",
       "      <th>0</th>\n",
       "      <td>login1</td>\n",
       "      <td>1</td>\n",
       "      <td>task_1</td>\n",
       "      <td>resolution_1</td>\n",
       "      <td>1576865064</td>\n",
       "      <td>1576867011</td>\n",
       "    </tr>\n",
       "    <tr>\n",
       "      <th>1</th>\n",
       "      <td>login1</td>\n",
       "      <td>2</td>\n",
       "      <td>task_2</td>\n",
       "      <td>resolution_1</td>\n",
       "      <td>1576837986</td>\n",
       "      <td>1576838385</td>\n",
       "    </tr>\n",
       "    <tr>\n",
       "      <th>2</th>\n",
       "      <td>login1</td>\n",
       "      <td>1</td>\n",
       "      <td>task_3</td>\n",
       "      <td>resolution_1</td>\n",
       "      <td>1576078746</td>\n",
       "      <td>1576079378</td>\n",
       "    </tr>\n",
       "    <tr>\n",
       "      <th>3</th>\n",
       "      <td>login1</td>\n",
       "      <td>1</td>\n",
       "      <td>task_4</td>\n",
       "      <td>resolution_2</td>\n",
       "      <td>1576504430</td>\n",
       "      <td>1576504564</td>\n",
       "    </tr>\n",
       "    <tr>\n",
       "      <th>4</th>\n",
       "      <td>login1</td>\n",
       "      <td>1</td>\n",
       "      <td>task_5</td>\n",
       "      <td>resolution_1</td>\n",
       "      <td>1575398193</td>\n",
       "      <td>1575398809</td>\n",
       "    </tr>\n",
       "  </tbody>\n",
       "</table>\n",
       "</div>"
      ],
      "text/plain": [
       "   worker  project_id task_id resolution_type    start_ts      end_ts\n",
       "0  login1           1  task_1    resolution_1  1576865064  1576867011\n",
       "1  login1           2  task_2    resolution_1  1576837986  1576838385\n",
       "2  login1           1  task_3    resolution_1  1576078746  1576079378\n",
       "3  login1           1  task_4    resolution_2  1576504430  1576504564\n",
       "4  login1           1  task_5    resolution_1  1575398193  1575398809"
      ]
     },
     "execution_count": 1,
     "metadata": {},
     "output_type": "execute_result"
    }
   ],
   "source": [
    "import pandas as pd\n",
    "df = pd.read_csv('task_about_time.tsv', sep='\\t')\n",
    "df.head()"
   ]
  },
  {
   "cell_type": "markdown",
   "metadata": {},
   "source": [
    "Добавим столбец затраченного времени на задание - diff"
   ]
  },
  {
   "cell_type": "code",
   "execution_count": 2,
   "metadata": {},
   "outputs": [],
   "source": [
    "df['diff'] = df['end_ts'] - df['start_ts']"
   ]
  },
  {
   "cell_type": "markdown",
   "metadata": {},
   "source": [
    "Посмотрим как распределены задания по проектам и какое медианное время выполнения заданий в них"
   ]
  },
  {
   "cell_type": "code",
   "execution_count": 3,
   "metadata": {},
   "outputs": [
    {
     "data": {
      "text/html": [
       "<div>\n",
       "<style scoped>\n",
       "    .dataframe tbody tr th:only-of-type {\n",
       "        vertical-align: middle;\n",
       "    }\n",
       "\n",
       "    .dataframe tbody tr th {\n",
       "        vertical-align: top;\n",
       "    }\n",
       "\n",
       "    .dataframe thead th {\n",
       "        text-align: right;\n",
       "    }\n",
       "</style>\n",
       "<table border=\"1\" class=\"dataframe\">\n",
       "  <thead>\n",
       "    <tr style=\"text-align: right;\">\n",
       "      <th></th>\n",
       "      <th></th>\n",
       "      <th>start_ts</th>\n",
       "      <th>end_ts</th>\n",
       "      <th>diff</th>\n",
       "    </tr>\n",
       "    <tr>\n",
       "      <th>project_id</th>\n",
       "      <th>resolution_type</th>\n",
       "      <th></th>\n",
       "      <th></th>\n",
       "      <th></th>\n",
       "    </tr>\n",
       "  </thead>\n",
       "  <tbody>\n",
       "    <tr>\n",
       "      <th rowspan=\"2\" valign=\"top\">1</th>\n",
       "      <th>resolution_1</th>\n",
       "      <td>1.576009e+09</td>\n",
       "      <td>1.576009e+09</td>\n",
       "      <td>579.0</td>\n",
       "    </tr>\n",
       "    <tr>\n",
       "      <th>resolution_2</th>\n",
       "      <td>1.575737e+09</td>\n",
       "      <td>1.575737e+09</td>\n",
       "      <td>55.0</td>\n",
       "    </tr>\n",
       "    <tr>\n",
       "      <th rowspan=\"2\" valign=\"top\">2</th>\n",
       "      <th>resolution_1</th>\n",
       "      <td>1.576059e+09</td>\n",
       "      <td>1.576061e+09</td>\n",
       "      <td>568.0</td>\n",
       "    </tr>\n",
       "    <tr>\n",
       "      <th>resolution_2</th>\n",
       "      <td>1.575991e+09</td>\n",
       "      <td>1.575991e+09</td>\n",
       "      <td>50.5</td>\n",
       "    </tr>\n",
       "  </tbody>\n",
       "</table>\n",
       "</div>"
      ],
      "text/plain": [
       "                                start_ts        end_ts   diff\n",
       "project_id resolution_type                                   \n",
       "1          resolution_1     1.576009e+09  1.576009e+09  579.0\n",
       "           resolution_2     1.575737e+09  1.575737e+09   55.0\n",
       "2          resolution_1     1.576059e+09  1.576061e+09  568.0\n",
       "           resolution_2     1.575991e+09  1.575991e+09   50.5"
      ]
     },
     "execution_count": 3,
     "metadata": {},
     "output_type": "execute_result"
    }
   ],
   "source": [
    "df.groupby(['project_id','resolution_type']).median()"
   ]
  },
  {
   "cell_type": "code",
   "execution_count": 4,
   "metadata": {},
   "outputs": [
    {
     "data": {
      "text/html": [
       "<div>\n",
       "<style scoped>\n",
       "    .dataframe tbody tr th:only-of-type {\n",
       "        vertical-align: middle;\n",
       "    }\n",
       "\n",
       "    .dataframe tbody tr th {\n",
       "        vertical-align: top;\n",
       "    }\n",
       "\n",
       "    .dataframe thead th {\n",
       "        text-align: right;\n",
       "    }\n",
       "</style>\n",
       "<table border=\"1\" class=\"dataframe\">\n",
       "  <thead>\n",
       "    <tr style=\"text-align: right;\">\n",
       "      <th></th>\n",
       "      <th></th>\n",
       "      <th>worker</th>\n",
       "      <th>task_id</th>\n",
       "      <th>start_ts</th>\n",
       "      <th>end_ts</th>\n",
       "      <th>diff</th>\n",
       "    </tr>\n",
       "    <tr>\n",
       "      <th>project_id</th>\n",
       "      <th>resolution_type</th>\n",
       "      <th></th>\n",
       "      <th></th>\n",
       "      <th></th>\n",
       "      <th></th>\n",
       "      <th></th>\n",
       "    </tr>\n",
       "  </thead>\n",
       "  <tbody>\n",
       "    <tr>\n",
       "      <th rowspan=\"2\" valign=\"top\">1</th>\n",
       "      <th>resolution_1</th>\n",
       "      <td>3375</td>\n",
       "      <td>3375</td>\n",
       "      <td>3375</td>\n",
       "      <td>3375</td>\n",
       "      <td>3375</td>\n",
       "    </tr>\n",
       "    <tr>\n",
       "      <th>resolution_2</th>\n",
       "      <td>366</td>\n",
       "      <td>366</td>\n",
       "      <td>366</td>\n",
       "      <td>366</td>\n",
       "      <td>366</td>\n",
       "    </tr>\n",
       "    <tr>\n",
       "      <th rowspan=\"2\" valign=\"top\">2</th>\n",
       "      <th>resolution_1</th>\n",
       "      <td>1151</td>\n",
       "      <td>1151</td>\n",
       "      <td>1151</td>\n",
       "      <td>1151</td>\n",
       "      <td>1151</td>\n",
       "    </tr>\n",
       "    <tr>\n",
       "      <th>resolution_2</th>\n",
       "      <td>56</td>\n",
       "      <td>56</td>\n",
       "      <td>56</td>\n",
       "      <td>56</td>\n",
       "      <td>56</td>\n",
       "    </tr>\n",
       "  </tbody>\n",
       "</table>\n",
       "</div>"
      ],
      "text/plain": [
       "                            worker  task_id  start_ts  end_ts  diff\n",
       "project_id resolution_type                                         \n",
       "1          resolution_1       3375     3375      3375    3375  3375\n",
       "           resolution_2        366      366       366     366   366\n",
       "2          resolution_1       1151     1151      1151    1151  1151\n",
       "           resolution_2         56       56        56      56    56"
      ]
     },
     "execution_count": 4,
     "metadata": {},
     "output_type": "execute_result"
    }
   ],
   "source": [
    "df.groupby(['project_id','resolution_type']).count()"
   ]
  },
  {
   "cell_type": "markdown",
   "metadata": {},
   "source": [
    "Хотя по данным видно, что на резолюцию 2 ассесоры тратят менеше времени, мы будет платить за все задания в одном проекте  одинаково. Исходя из того, что такие задания ассесоры сами не выбирают, а они попадаются случайно."
   ]
  },
  {
   "cell_type": "markdown",
   "metadata": {},
   "source": [
    "Так как мы знаем, что проекты разные, то размер оплаты за задание будем расчитывать отдельно для каждого."
   ]
  },
  {
   "cell_type": "code",
   "execution_count": 5,
   "metadata": {},
   "outputs": [],
   "source": [
    "clms = ['worker', 'resolution_type', 'diff']\n",
    "p1_df = df[df['project_id'] == 1][clms]\n",
    "p2_df = df[df['project_id'] == 2][clms]"
   ]
  },
  {
   "cell_type": "markdown",
   "metadata": {},
   "source": [
    "Проделаем все операции сначала для 1 проекта, потом аналоггично для второго"
   ]
  },
  {
   "cell_type": "markdown",
   "metadata": {},
   "source": [
    "Уберем шумы по 2.5% от правой и левой границы и вычисляем медиану времени выполнения задания в проекте"
   ]
  },
  {
   "cell_type": "code",
   "execution_count": 6,
   "metadata": {},
   "outputs": [
    {
     "data": {
      "text/plain": [
       "diff    552.5\n",
       "dtype: float64"
      ]
     },
     "execution_count": 6,
     "metadata": {},
     "output_type": "execute_result"
    }
   ],
   "source": [
    "n1 = int(len(df)*0.025)\n",
    "n2 = int(len(df)*0.975)\n",
    "median_time_p1 = p1_df.sort_values(by=['diff'])[n1:n2].median()\n",
    "median_time_p1"
   ]
  },
  {
   "cell_type": "markdown",
   "metadata": {},
   "source": [
    "Теперь построим гистаграмму и найдем медиану графическим путем "
   ]
  },
  {
   "cell_type": "code",
   "execution_count": 7,
   "metadata": {},
   "outputs": [
    {
     "name": "stdout",
     "output_type": "stream",
     "text": [
      "Using matplotlib backend: Qt5Agg\n"
     ]
    }
   ],
   "source": [
    "import matplotlib.pyplot as plt\n",
    "plt.style.use('ggplot')\n",
    "%matplotlib"
   ]
  },
  {
   "cell_type": "code",
   "execution_count": 11,
   "metadata": {},
   "outputs": [
    {
     "data": {
      "text/plain": [
       "<matplotlib.axes._subplots.AxesSubplot at 0x25a67a9eb00>"
      ]
     },
     "execution_count": 11,
     "metadata": {},
     "output_type": "execute_result"
    },
    {
     "data": {
      "image/png": "[encoded data removed]",
      "text/plain": [
       "<Figure size 1080x1440 with 1 Axes>"
      ]
     },
     "metadata": {
      "needs_background": "light"
     },
     "output_type": "display_data"
    }
   ],
   "source": [
    "fig = plt.figure(figsize =(15,20))\n",
    "ax = fig.gca()\n",
    "p1_df = p1_df.sort_values(by=['diff'])[n1:n2]\n",
    "p1_df[p1_df['diff']<int(2*median_time_p1)]['diff'].hist(bins = 30,ax = ax)"
   ]
  },
  {
   "cell_type": "markdown",
   "metadata": {},
   "source": [
    "Видим, что медиана из гестограммы примерно равна 300.\n",
    "Будет справедливо, если взять среднее между посчитанным на всей выборке и наблюдаемым на гистаграмме.\n",
    "И это будет медианное время виполнения задания. "
   ]
  },
  {
   "cell_type": "code",
   "execution_count": 12,
   "metadata": {},
   "outputs": [
    {
     "data": {
      "text/plain": [
       "diff    426.25\n",
       "dtype: float64"
      ]
     },
     "execution_count": 12,
     "metadata": {},
     "output_type": "execute_result"
    }
   ],
   "source": [
    "avg_ts_p1 = (median_time_p1 + 300) / 2\n",
    "avg_ts_p1"
   ]
  },
  {
   "cell_type": "markdown",
   "metadata": {},
   "source": [
    "Зафиксируем произвольное N и расчитаем оплату за задание в проекте 1"
   ]
  },
  {
   "cell_type": "code",
   "execution_count": 13,
   "metadata": {},
   "outputs": [
    {
     "data": {
      "text/plain": [
       "71"
      ]
     },
     "execution_count": 13,
     "metadata": {},
     "output_type": "execute_result"
    }
   ],
   "source": [
    "N = 5\n",
    "pay_p1 = int(avg_ts_p1 / 30 * N)\n",
    "pay_p1"
   ]
  },
  {
   "cell_type": "markdown",
   "metadata": {},
   "source": [
    "Расчитаем для всех ассесоров оплату за 1 проект"
   ]
  },
  {
   "cell_type": "code",
   "execution_count": 14,
   "metadata": {},
   "outputs": [
    {
     "data": {
      "text/html": [
       "<div>\n",
       "<style scoped>\n",
       "    .dataframe tbody tr th:only-of-type {\n",
       "        vertical-align: middle;\n",
       "    }\n",
       "\n",
       "    .dataframe tbody tr th {\n",
       "        vertical-align: top;\n",
       "    }\n",
       "\n",
       "    .dataframe thead th {\n",
       "        text-align: right;\n",
       "    }\n",
       "</style>\n",
       "<table border=\"1\" class=\"dataframe\">\n",
       "  <thead>\n",
       "    <tr style=\"text-align: right;\">\n",
       "      <th></th>\n",
       "      <th>resolution_type</th>\n",
       "      <th>diff</th>\n",
       "      <th>pay_p1</th>\n",
       "    </tr>\n",
       "    <tr>\n",
       "      <th>worker</th>\n",
       "      <th></th>\n",
       "      <th></th>\n",
       "      <th></th>\n",
       "    </tr>\n",
       "  </thead>\n",
       "  <tbody>\n",
       "    <tr>\n",
       "      <th>login1</th>\n",
       "      <td>151</td>\n",
       "      <td>151</td>\n",
       "      <td>10721</td>\n",
       "    </tr>\n",
       "    <tr>\n",
       "      <th>login10</th>\n",
       "      <td>82</td>\n",
       "      <td>82</td>\n",
       "      <td>5822</td>\n",
       "    </tr>\n",
       "    <tr>\n",
       "      <th>login11</th>\n",
       "      <td>291</td>\n",
       "      <td>291</td>\n",
       "      <td>20661</td>\n",
       "    </tr>\n",
       "    <tr>\n",
       "      <th>login12</th>\n",
       "      <td>192</td>\n",
       "      <td>192</td>\n",
       "      <td>13632</td>\n",
       "    </tr>\n",
       "    <tr>\n",
       "      <th>login13</th>\n",
       "      <td>271</td>\n",
       "      <td>271</td>\n",
       "      <td>19241</td>\n",
       "    </tr>\n",
       "    <tr>\n",
       "      <th>login14</th>\n",
       "      <td>73</td>\n",
       "      <td>73</td>\n",
       "      <td>5183</td>\n",
       "    </tr>\n",
       "    <tr>\n",
       "      <th>login15</th>\n",
       "      <td>166</td>\n",
       "      <td>166</td>\n",
       "      <td>11786</td>\n",
       "    </tr>\n",
       "    <tr>\n",
       "      <th>login16</th>\n",
       "      <td>476</td>\n",
       "      <td>476</td>\n",
       "      <td>33796</td>\n",
       "    </tr>\n",
       "    <tr>\n",
       "      <th>login2</th>\n",
       "      <td>24</td>\n",
       "      <td>24</td>\n",
       "      <td>1704</td>\n",
       "    </tr>\n",
       "    <tr>\n",
       "      <th>login3</th>\n",
       "      <td>311</td>\n",
       "      <td>311</td>\n",
       "      <td>22081</td>\n",
       "    </tr>\n",
       "    <tr>\n",
       "      <th>login4</th>\n",
       "      <td>149</td>\n",
       "      <td>149</td>\n",
       "      <td>10579</td>\n",
       "    </tr>\n",
       "    <tr>\n",
       "      <th>login5</th>\n",
       "      <td>246</td>\n",
       "      <td>246</td>\n",
       "      <td>17466</td>\n",
       "    </tr>\n",
       "    <tr>\n",
       "      <th>login6</th>\n",
       "      <td>135</td>\n",
       "      <td>135</td>\n",
       "      <td>9585</td>\n",
       "    </tr>\n",
       "    <tr>\n",
       "      <th>login7</th>\n",
       "      <td>272</td>\n",
       "      <td>272</td>\n",
       "      <td>19312</td>\n",
       "    </tr>\n",
       "    <tr>\n",
       "      <th>login8</th>\n",
       "      <td>45</td>\n",
       "      <td>45</td>\n",
       "      <td>3195</td>\n",
       "    </tr>\n",
       "    <tr>\n",
       "      <th>login9</th>\n",
       "      <td>365</td>\n",
       "      <td>365</td>\n",
       "      <td>25915</td>\n",
       "    </tr>\n",
       "  </tbody>\n",
       "</table>\n",
       "</div>"
      ],
      "text/plain": [
       "         resolution_type  diff  pay_p1\n",
       "worker                                \n",
       "login1               151   151   10721\n",
       "login10               82    82    5822\n",
       "login11              291   291   20661\n",
       "login12              192   192   13632\n",
       "login13              271   271   19241\n",
       "login14               73    73    5183\n",
       "login15              166   166   11786\n",
       "login16              476   476   33796\n",
       "login2                24    24    1704\n",
       "login3               311   311   22081\n",
       "login4               149   149   10579\n",
       "login5               246   246   17466\n",
       "login6               135   135    9585\n",
       "login7               272   272   19312\n",
       "login8                45    45    3195\n",
       "login9               365   365   25915"
      ]
     },
     "execution_count": 14,
     "metadata": {},
     "output_type": "execute_result"
    }
   ],
   "source": [
    "t1 = p1_df.groupby(['worker']).count()\n",
    "t1['pay_p1'] = t1['diff'] * pay_p1\n",
    "t1"
   ]
  },
  {
   "cell_type": "markdown",
   "metadata": {},
   "source": [
    "Теперь все те же действия проделываем для проекта 2"
   ]
  },
  {
   "cell_type": "markdown",
   "metadata": {},
   "source": [
    "Уберем шумы по 2.5% от правой и левой границы и вычисляем медиану времени выполнения задания в проекте"
   ]
  },
  {
   "cell_type": "code",
   "execution_count": 15,
   "metadata": {},
   "outputs": [
    {
     "data": {
      "text/plain": [
       "diff    610.5\n",
       "dtype: float64"
      ]
     },
     "execution_count": 15,
     "metadata": {},
     "output_type": "execute_result"
    }
   ],
   "source": [
    "median_time_p2 = p2_df.sort_values(by=['diff'])[n1:n2].median()\n",
    "median_time_p2"
   ]
  },
  {
   "cell_type": "markdown",
   "metadata": {},
   "source": [
    "Теперь построим гистаграмму и посмотрим, где"
   ]
  },
  {
   "cell_type": "code",
   "execution_count": 17,
   "metadata": {},
   "outputs": [
    {
     "data": {
      "text/plain": [
       "<matplotlib.axes._subplots.AxesSubplot at 0x25a67b3c780>"
      ]
     },
     "execution_count": 17,
     "metadata": {},
     "output_type": "execute_result"
    },
    {
     "data": {
      "image/png": "[encoded data removed]",
      "text/plain": [
       "<Figure size 1080x1440 with 1 Axes>"
      ]
     },
     "metadata": {
      "needs_background": "light"
     },
     "output_type": "display_data"
    }
   ],
   "source": [
    "fig = plt.figure(figsize =(15,20))\n",
    "ax = fig.gca()\n",
    "p2_df = p2_df.sort_values(by=['diff'])[n1:n2]\n",
    "p2_df[p2_df['diff']<int(2*median_time_p2)]['diff'].hist(bins=30,ax = ax)"
   ]
  },
  {
   "cell_type": "markdown",
   "metadata": {},
   "source": [
    "Видим, что медиана из гестограммы примерно равна 380.\n",
    "Будет справедливо, если взять среднее между посчитанным на всей выборке и наблюдаемым на гистаграмме.\n",
    "И это будет медианное время виполнения задания. "
   ]
  },
  {
   "cell_type": "code",
   "execution_count": 18,
   "metadata": {},
   "outputs": [
    {
     "data": {
      "text/plain": [
       "diff    495.25\n",
       "dtype: float64"
      ]
     },
     "execution_count": 18,
     "metadata": {},
     "output_type": "execute_result"
    }
   ],
   "source": [
    "avg_ts_p2 = (median_time_p2 + 380) / 2\n",
    "avg_ts_p2"
   ]
  },
  {
   "cell_type": "markdown",
   "metadata": {},
   "source": [
    "Расчитаем оплату за задание в проекте 2"
   ]
  },
  {
   "cell_type": "code",
   "execution_count": 19,
   "metadata": {},
   "outputs": [
    {
     "data": {
      "text/plain": [
       "82"
      ]
     },
     "execution_count": 19,
     "metadata": {},
     "output_type": "execute_result"
    }
   ],
   "source": [
    "pay_p2 = int(avg_ts_p2 / 30 * N)\n",
    "pay_p2"
   ]
  },
  {
   "cell_type": "markdown",
   "metadata": {},
   "source": [
    "Расчитаем для всех ассесоров оплату за 2 проект"
   ]
  },
  {
   "cell_type": "code",
   "execution_count": 91,
   "metadata": {},
   "outputs": [
    {
     "data": {
      "text/html": [
       "<div>\n",
       "<style scoped>\n",
       "    .dataframe tbody tr th:only-of-type {\n",
       "        vertical-align: middle;\n",
       "    }\n",
       "\n",
       "    .dataframe tbody tr th {\n",
       "        vertical-align: top;\n",
       "    }\n",
       "\n",
       "    .dataframe thead th {\n",
       "        text-align: right;\n",
       "    }\n",
       "</style>\n",
       "<table border=\"1\" class=\"dataframe\">\n",
       "  <thead>\n",
       "    <tr style=\"text-align: right;\">\n",
       "      <th></th>\n",
       "      <th>resolution_type</th>\n",
       "      <th>diff</th>\n",
       "      <th>pay_p2</th>\n",
       "    </tr>\n",
       "    <tr>\n",
       "      <th>worker</th>\n",
       "      <th></th>\n",
       "      <th></th>\n",
       "      <th></th>\n",
       "    </tr>\n",
       "  </thead>\n",
       "  <tbody>\n",
       "    <tr>\n",
       "      <th>login1</th>\n",
       "      <td>47</td>\n",
       "      <td>47</td>\n",
       "      <td>4042</td>\n",
       "    </tr>\n",
       "    <tr>\n",
       "      <th>login10</th>\n",
       "      <td>26</td>\n",
       "      <td>26</td>\n",
       "      <td>2236</td>\n",
       "    </tr>\n",
       "    <tr>\n",
       "      <th>login11</th>\n",
       "      <td>38</td>\n",
       "      <td>38</td>\n",
       "      <td>3268</td>\n",
       "    </tr>\n",
       "    <tr>\n",
       "      <th>login12</th>\n",
       "      <td>17</td>\n",
       "      <td>17</td>\n",
       "      <td>1462</td>\n",
       "    </tr>\n",
       "    <tr>\n",
       "      <th>login13</th>\n",
       "      <td>49</td>\n",
       "      <td>49</td>\n",
       "      <td>4214</td>\n",
       "    </tr>\n",
       "    <tr>\n",
       "      <th>login14</th>\n",
       "      <td>12</td>\n",
       "      <td>12</td>\n",
       "      <td>1032</td>\n",
       "    </tr>\n",
       "    <tr>\n",
       "      <th>login15</th>\n",
       "      <td>73</td>\n",
       "      <td>73</td>\n",
       "      <td>6278</td>\n",
       "    </tr>\n",
       "    <tr>\n",
       "      <th>login16</th>\n",
       "      <td>73</td>\n",
       "      <td>73</td>\n",
       "      <td>6278</td>\n",
       "    </tr>\n",
       "    <tr>\n",
       "      <th>login2</th>\n",
       "      <td>9</td>\n",
       "      <td>9</td>\n",
       "      <td>774</td>\n",
       "    </tr>\n",
       "    <tr>\n",
       "      <th>login3</th>\n",
       "      <td>51</td>\n",
       "      <td>51</td>\n",
       "      <td>4386</td>\n",
       "    </tr>\n",
       "    <tr>\n",
       "      <th>login4</th>\n",
       "      <td>32</td>\n",
       "      <td>32</td>\n",
       "      <td>2752</td>\n",
       "    </tr>\n",
       "    <tr>\n",
       "      <th>login5</th>\n",
       "      <td>65</td>\n",
       "      <td>65</td>\n",
       "      <td>5590</td>\n",
       "    </tr>\n",
       "    <tr>\n",
       "      <th>login6</th>\n",
       "      <td>53</td>\n",
       "      <td>53</td>\n",
       "      <td>4558</td>\n",
       "    </tr>\n",
       "    <tr>\n",
       "      <th>login7</th>\n",
       "      <td>119</td>\n",
       "      <td>119</td>\n",
       "      <td>10234</td>\n",
       "    </tr>\n",
       "    <tr>\n",
       "      <th>login8</th>\n",
       "      <td>12</td>\n",
       "      <td>12</td>\n",
       "      <td>1032</td>\n",
       "    </tr>\n",
       "    <tr>\n",
       "      <th>login9</th>\n",
       "      <td>39</td>\n",
       "      <td>39</td>\n",
       "      <td>3354</td>\n",
       "    </tr>\n",
       "  </tbody>\n",
       "</table>\n",
       "</div>"
      ],
      "text/plain": [
       "         resolution_type  diff  pay_p2\n",
       "worker                                \n",
       "login1                47    47    4042\n",
       "login10               26    26    2236\n",
       "login11               38    38    3268\n",
       "login12               17    17    1462\n",
       "login13               49    49    4214\n",
       "login14               12    12    1032\n",
       "login15               73    73    6278\n",
       "login16               73    73    6278\n",
       "login2                 9     9     774\n",
       "login3                51    51    4386\n",
       "login4                32    32    2752\n",
       "login5                65    65    5590\n",
       "login6                53    53    4558\n",
       "login7               119   119   10234\n",
       "login8                12    12    1032\n",
       "login9                39    39    3354"
      ]
     },
     "execution_count": 91,
     "metadata": {},
     "output_type": "execute_result"
    }
   ],
   "source": [
    "t2 = p2_df.groupby(['worker']).count()\n",
    "t2['pay_p2'] = t2['diff'] * pay_p2\n",
    "t2"
   ]
  },
  {
   "cell_type": "markdown",
   "metadata": {},
   "source": [
    "Расчиатем итоговую таблицу по оплате ассесорам за работу"
   ]
  },
  {
   "cell_type": "code",
   "execution_count": 95,
   "metadata": {},
   "outputs": [
    {
     "data": {
      "text/html": [
       "<div>\n",
       "<style scoped>\n",
       "    .dataframe tbody tr th:only-of-type {\n",
       "        vertical-align: middle;\n",
       "    }\n",
       "\n",
       "    .dataframe tbody tr th {\n",
       "        vertical-align: top;\n",
       "    }\n",
       "\n",
       "    .dataframe thead th {\n",
       "        text-align: right;\n",
       "    }\n",
       "</style>\n",
       "<table border=\"1\" class=\"dataframe\">\n",
       "  <thead>\n",
       "    <tr style=\"text-align: right;\">\n",
       "      <th></th>\n",
       "      <th>pay_p1</th>\n",
       "      <th>pay_p2</th>\n",
       "      <th>sum</th>\n",
       "    </tr>\n",
       "    <tr>\n",
       "      <th>worker</th>\n",
       "      <th></th>\n",
       "      <th></th>\n",
       "      <th></th>\n",
       "    </tr>\n",
       "  </thead>\n",
       "  <tbody>\n",
       "    <tr>\n",
       "      <th>login1</th>\n",
       "      <td>10721</td>\n",
       "      <td>4042</td>\n",
       "      <td>14763</td>\n",
       "    </tr>\n",
       "    <tr>\n",
       "      <th>login10</th>\n",
       "      <td>5822</td>\n",
       "      <td>2236</td>\n",
       "      <td>8058</td>\n",
       "    </tr>\n",
       "    <tr>\n",
       "      <th>login11</th>\n",
       "      <td>20661</td>\n",
       "      <td>3268</td>\n",
       "      <td>23929</td>\n",
       "    </tr>\n",
       "    <tr>\n",
       "      <th>login12</th>\n",
       "      <td>13632</td>\n",
       "      <td>1462</td>\n",
       "      <td>15094</td>\n",
       "    </tr>\n",
       "    <tr>\n",
       "      <th>login13</th>\n",
       "      <td>19241</td>\n",
       "      <td>4214</td>\n",
       "      <td>23455</td>\n",
       "    </tr>\n",
       "    <tr>\n",
       "      <th>login14</th>\n",
       "      <td>5183</td>\n",
       "      <td>1032</td>\n",
       "      <td>6215</td>\n",
       "    </tr>\n",
       "    <tr>\n",
       "      <th>login15</th>\n",
       "      <td>11786</td>\n",
       "      <td>6278</td>\n",
       "      <td>18064</td>\n",
       "    </tr>\n",
       "    <tr>\n",
       "      <th>login16</th>\n",
       "      <td>33796</td>\n",
       "      <td>6278</td>\n",
       "      <td>40074</td>\n",
       "    </tr>\n",
       "    <tr>\n",
       "      <th>login2</th>\n",
       "      <td>1704</td>\n",
       "      <td>774</td>\n",
       "      <td>2478</td>\n",
       "    </tr>\n",
       "    <tr>\n",
       "      <th>login3</th>\n",
       "      <td>22081</td>\n",
       "      <td>4386</td>\n",
       "      <td>26467</td>\n",
       "    </tr>\n",
       "    <tr>\n",
       "      <th>login4</th>\n",
       "      <td>10579</td>\n",
       "      <td>2752</td>\n",
       "      <td>13331</td>\n",
       "    </tr>\n",
       "    <tr>\n",
       "      <th>login5</th>\n",
       "      <td>17466</td>\n",
       "      <td>5590</td>\n",
       "      <td>23056</td>\n",
       "    </tr>\n",
       "    <tr>\n",
       "      <th>login6</th>\n",
       "      <td>9585</td>\n",
       "      <td>4558</td>\n",
       "      <td>14143</td>\n",
       "    </tr>\n",
       "    <tr>\n",
       "      <th>login7</th>\n",
       "      <td>19312</td>\n",
       "      <td>10234</td>\n",
       "      <td>29546</td>\n",
       "    </tr>\n",
       "    <tr>\n",
       "      <th>login8</th>\n",
       "      <td>3195</td>\n",
       "      <td>1032</td>\n",
       "      <td>4227</td>\n",
       "    </tr>\n",
       "    <tr>\n",
       "      <th>login9</th>\n",
       "      <td>25915</td>\n",
       "      <td>3354</td>\n",
       "      <td>29269</td>\n",
       "    </tr>\n",
       "  </tbody>\n",
       "</table>\n",
       "</div>"
      ],
      "text/plain": [
       "         pay_p1  pay_p2    sum\n",
       "worker                        \n",
       "login1    10721    4042  14763\n",
       "login10    5822    2236   8058\n",
       "login11   20661    3268  23929\n",
       "login12   13632    1462  15094\n",
       "login13   19241    4214  23455\n",
       "login14    5183    1032   6215\n",
       "login15   11786    6278  18064\n",
       "login16   33796    6278  40074\n",
       "login2     1704     774   2478\n",
       "login3    22081    4386  26467\n",
       "login4    10579    2752  13331\n",
       "login5    17466    5590  23056\n",
       "login6     9585    4558  14143\n",
       "login7    19312   10234  29546\n",
       "login8     3195    1032   4227\n",
       "login9    25915    3354  29269"
      ]
     },
     "execution_count": 95,
     "metadata": {},
     "output_type": "execute_result"
    }
   ],
   "source": [
    "t1['pay_p2'] = t2['pay_p2']\n",
    "t1['sum'] = t1['pay_p1'] + t1['pay_p2']\n",
    "t1[['pay_p1','pay_p2','sum']]"
   ]
  },
  {
   "cell_type": "code",
   "execution_count": null,
   "metadata": {},
   "outputs": [],
   "source": []
  }
 ],
 "metadata": {
  "kernelspec": {
   "display_name": "Python 3",
   "language": "python",
   "name": "python3"
  },
  "language_info": {
   "codemirror_mode": {
    "name": "ipython",
    "version": 3
   },
   "file_extension": ".py",
   "mimetype": "text/x-python",
   "name": "python",
   "nbconvert_exporter": "python",
   "pygments_lexer": "ipython3",
   "version": "3.7.3"
  }
 },
 "nbformat": 4,
 "nbformat_minor": 2
}
